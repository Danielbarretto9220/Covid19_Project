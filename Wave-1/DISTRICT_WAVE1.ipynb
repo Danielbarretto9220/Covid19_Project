{
 "cells": [
  {
   "cell_type": "code",
   "execution_count": 7,
   "metadata": {},
   "outputs": [],
   "source": [
    "import numpy as np\n",
    "import pandas as pd\n",
    "\n",
    "def dist_data(dist_name):\n",
    "    dist=str(dist_name)\n",
    "\n",
    "    df = pd.read_csv('Districts/'+dist+'.csv',header = 0)\n",
    "\n",
    "    july = []\n",
    "    aug = []\n",
    "    sep = []\n",
    "    oct = []\n",
    "    dec = []\n",
    "    jan = []\n",
    "    feb = []\n",
    "    for i,data in df.iterrows():\n",
    "        if 'jul' in data['date']:\n",
    "            a = data['date'].split('y')[1]\n",
    "            july.append('{}-07-2020'.format(a))      \n",
    "        elif 'aug' in data['date']:\n",
    "            a = data['date'].split('g')[1]\n",
    "            aug.append('{}-08-2020'.format(a))\n",
    "        elif 'sep' in data['date']:\n",
    "            a = data['date'].split('p')[1]\n",
    "            sep.append('{}-09-2020'.format(a))\n",
    "        elif 'oct' in data['date']:\n",
    "            a = data['date'].split('t')[1]\n",
    "            oct.append('{}-10-2020'.format(a))\n",
    "        elif 'dec' in data['date']:\n",
    "            a = data['date'].split('c')[1]\n",
    "            dec.append('{}-12-2020'.format(a)) \n",
    "        elif 'jan' in data['date']:\n",
    "            a = data['date'].split('n')[1]\n",
    "            jan.append('{}-01-2021'.format(a))  \n",
    "        elif 'feb' in data['date']:\n",
    "            a = data['date'].split('b')[1]\n",
    "            feb.append('{}-02-2021'.format(a))     \n",
    "    df.insert(0,'Date',july+aug+sep+oct+dec+jan+feb)\n",
    "\n",
    "    df = df.drop('date',axis = 'columns')\n",
    "    \n",
    "    for i, data in df.iterrows():\n",
    "        if i in range(1, 12):\n",
    "            df.at[i, 'Todays_Covid_Deaths'] = df.at[i, 'Total_Covid_Deaths'] - df.at[i-1, 'Total_Covid_Deaths']\n",
    "    df['Todays_Covid_Deaths'] = df['Todays_Covid_Deaths'].fillna(0)        \n",
    "            \n",
    "    df = df.set_index('Date')\n",
    "#     display(df)\n",
    "    with pd.ExcelWriter('Districts/Date/'+dist+' Wave1.xlsx') as writer:\n",
    "            df.to_excel(writer, sheet_name='District', index=True) "
   ]
  },
  {
   "cell_type": "code",
   "execution_count": 8,
   "metadata": {},
   "outputs": [
    {
     "name": "stdout",
     "output_type": "stream",
     "text": [
      "Working on District:  Bagalakote\n",
      "Working on District:  Ballari\n",
      "Working on District:  Belagavi\n",
      "Working on District:  Bengaluru Rural\n",
      "Working on District:  Bengaluru Urban\n",
      "Working on District:  Bidar\n",
      "Working on District:  Chamarajanagara\n",
      "Working on District:  Chikkaballapura\n",
      "Working on District:  Chikkamagaluru\n",
      "Working on District:  Chitradurga\n",
      "Working on District:  Dakshina Kannada\n",
      "Working on District:  Davanagere\n",
      "Working on District:  Dharwada\n",
      "Working on District:  Gadag\n",
      "Working on District:  Hassana\n",
      "Working on District:  Haveri\n",
      "Working on District:  Kalaburagi\n",
      "Working on District:  Kodagu\n",
      "Working on District:  Kolara\n",
      "Working on District:  Koppala\n",
      "Working on District:  Mandya\n",
      "Working on District:  Mysuru\n",
      "Working on District:  Raichuru\n",
      "Working on District:  Ramanagara\n",
      "Working on District:  Shivamogga\n",
      "Working on District:  Tumakuru\n",
      "Working on District:  Udupi\n",
      "Working on District:  Uttara Kannada\n",
      "Working on District:  Vijayapura\n",
      "Working on District:  Yadagiri\n"
     ]
    }
   ],
   "source": [
    "# Code to extract specific districts from the excel files \n",
    "import pandas as pd\n",
    "from datetime import date\n",
    "\n",
    "tmp= pd.read_csv('Dist_Name.csv', header=0)\n",
    "\n",
    "for i in tmp['District Name']:\n",
    "    print('Working on District: ',i)\n",
    "    dist_data(i)\n",
    "    "
   ]
  },
  {
   "cell_type": "code",
   "execution_count": null,
   "metadata": {},
   "outputs": [],
   "source": []
  }
 ],
 "metadata": {
  "kernelspec": {
   "display_name": "Python 3",
   "language": "python",
   "name": "python3"
  },
  "language_info": {
   "codemirror_mode": {
    "name": "ipython",
    "version": 3
   },
   "file_extension": ".py",
   "mimetype": "text/x-python",
   "name": "python",
   "nbconvert_exporter": "python",
   "pygments_lexer": "ipython3",
   "version": "3.9.5"
  }
 },
 "nbformat": 4,
 "nbformat_minor": 4
}
