{
 "cells": [
  {
   "cell_type": "code",
   "execution_count": 1,
   "id": "b5e9121a-4c7c-4f09-ad49-5d21a314cf7f",
   "metadata": {},
   "outputs": [],
   "source": [
    "import pandas as pd\n",
    "import plotly.express as px\n",
    "import plotly.io as pio\n",
    "pio.renderers.default = 'browser'\n",
    "import plotly.graph_objects as go\n",
    "import matplotlib.pyplot as plt\n",
    "from statsmodels.graphics.tsaplots import plot_acf,plot_pacf\n",
    "from pandas.plotting import autocorrelation_plot\n",
    "import statsmodels.api as sm\n",
    "from statsmodels.tsa.arima_model import ARIMA\n",
    "import warnings\n",
    "warnings.filterwarnings('ignore', 'statsmodels.tsa.arima_model.ARMA',\n",
    "                        FutureWarning)"
   ]
  },
  {
   "cell_type": "code",
   "execution_count": 2,
   "id": "983ab2cc-5e5e-47bb-9ea2-8c35db71bba4",
   "metadata": {},
   "outputs": [
    {
     "name": "stdin",
     "output_type": "stream",
     "text": [
      "Enter District Name Bengaluru Rural\n"
     ]
    }
   ],
   "source": [
    "#Bengaluru Urban\n",
    "dist = input(\"Enter District Name\")"
   ]
  },
  {
   "cell_type": "code",
   "execution_count": 3,
   "id": "0d4f3daa-0890-4ae5-838f-bb94382d4d16",
   "metadata": {},
   "outputs": [],
   "source": [
    "df = pd.read_csv('DATA/DISTRICTS/'+dist+'.csv')\n",
    "# df['Date']=pd.to_datetime(df['Date'])"
   ]
  },
  {
   "cell_type": "code",
   "execution_count": 4,
   "id": "004f5fbb-194e-4069-886f-308b42cc5f66",
   "metadata": {},
   "outputs": [
    {
     "data": {
      "text/html": [
       "<div>\n",
       "<style scoped>\n",
       "    .dataframe tbody tr th:only-of-type {\n",
       "        vertical-align: middle;\n",
       "    }\n",
       "\n",
       "    .dataframe tbody tr th {\n",
       "        vertical-align: top;\n",
       "    }\n",
       "\n",
       "    .dataframe thead th {\n",
       "        text-align: right;\n",
       "    }\n",
       "</style>\n",
       "<table border=\"1\" class=\"dataframe\">\n",
       "  <thead>\n",
       "    <tr style=\"text-align: right;\">\n",
       "      <th></th>\n",
       "      <th>Date</th>\n",
       "      <th>District Name</th>\n",
       "      <th>Today’s Positives</th>\n",
       "      <th>Total Positives</th>\n",
       "      <th>Today’s Discharges</th>\n",
       "      <th>Total Discharges</th>\n",
       "      <th>Total Active Cases</th>\n",
       "      <th>Today’s Reported Covid Deaths</th>\n",
       "      <th>Total Covid Deaths</th>\n",
       "      <th>Death due to Non- Covid reasons</th>\n",
       "    </tr>\n",
       "  </thead>\n",
       "  <tbody>\n",
       "    <tr>\n",
       "      <th>0</th>\n",
       "      <td>2020-07-01</td>\n",
       "      <td>Bengaluru Rural</td>\n",
       "      <td>29</td>\n",
       "      <td>158</td>\n",
       "      <td>0</td>\n",
       "      <td>14</td>\n",
       "      <td>140</td>\n",
       "      <td>0</td>\n",
       "      <td>4</td>\n",
       "      <td>0</td>\n",
       "    </tr>\n",
       "    <tr>\n",
       "      <th>1</th>\n",
       "      <td>2020-07-02</td>\n",
       "      <td>Bengaluru Rural</td>\n",
       "      <td>5</td>\n",
       "      <td>163</td>\n",
       "      <td>32</td>\n",
       "      <td>46</td>\n",
       "      <td>113</td>\n",
       "      <td>0</td>\n",
       "      <td>4</td>\n",
       "      <td>0</td>\n",
       "    </tr>\n",
       "    <tr>\n",
       "      <th>2</th>\n",
       "      <td>2020-07-03</td>\n",
       "      <td>Bengaluru Rural</td>\n",
       "      <td>44</td>\n",
       "      <td>207</td>\n",
       "      <td>0</td>\n",
       "      <td>46</td>\n",
       "      <td>156</td>\n",
       "      <td>1</td>\n",
       "      <td>5</td>\n",
       "      <td>0</td>\n",
       "    </tr>\n",
       "    <tr>\n",
       "      <th>3</th>\n",
       "      <td>2020-07-04</td>\n",
       "      <td>Bengaluru Rural</td>\n",
       "      <td>11</td>\n",
       "      <td>218</td>\n",
       "      <td>0</td>\n",
       "      <td>46</td>\n",
       "      <td>166</td>\n",
       "      <td>1</td>\n",
       "      <td>6</td>\n",
       "      <td>0</td>\n",
       "    </tr>\n",
       "    <tr>\n",
       "      <th>4</th>\n",
       "      <td>2020-07-05</td>\n",
       "      <td>Bengaluru Rural</td>\n",
       "      <td>0</td>\n",
       "      <td>218</td>\n",
       "      <td>0</td>\n",
       "      <td>46</td>\n",
       "      <td>166</td>\n",
       "      <td>0</td>\n",
       "      <td>6</td>\n",
       "      <td>0</td>\n",
       "    </tr>\n",
       "    <tr>\n",
       "      <th>...</th>\n",
       "      <td>...</td>\n",
       "      <td>...</td>\n",
       "      <td>...</td>\n",
       "      <td>...</td>\n",
       "      <td>...</td>\n",
       "      <td>...</td>\n",
       "      <td>...</td>\n",
       "      <td>...</td>\n",
       "      <td>...</td>\n",
       "      <td>...</td>\n",
       "    </tr>\n",
       "    <tr>\n",
       "      <th>299</th>\n",
       "      <td>2021-05-30</td>\n",
       "      <td>Bengaluru Rural</td>\n",
       "      <td>392</td>\n",
       "      <td>53242</td>\n",
       "      <td>2142</td>\n",
       "      <td>41380</td>\n",
       "      <td>11209</td>\n",
       "      <td>10</td>\n",
       "      <td>653</td>\n",
       "      <td>0</td>\n",
       "    </tr>\n",
       "    <tr>\n",
       "      <th>300</th>\n",
       "      <td>2021-05-31</td>\n",
       "      <td>Bengaluru Rural</td>\n",
       "      <td>383</td>\n",
       "      <td>53625</td>\n",
       "      <td>2562</td>\n",
       "      <td>43942</td>\n",
       "      <td>9020</td>\n",
       "      <td>10</td>\n",
       "      <td>663</td>\n",
       "      <td>0</td>\n",
       "    </tr>\n",
       "    <tr>\n",
       "      <th>301</th>\n",
       "      <td>2021-06-01</td>\n",
       "      <td>Bengaluru Rural</td>\n",
       "      <td>202</td>\n",
       "      <td>53827</td>\n",
       "      <td>1570</td>\n",
       "      <td>45512</td>\n",
       "      <td>7641</td>\n",
       "      <td>11</td>\n",
       "      <td>674</td>\n",
       "      <td>0</td>\n",
       "    </tr>\n",
       "    <tr>\n",
       "      <th>302</th>\n",
       "      <td>2021-06-02</td>\n",
       "      <td>Bengaluru Rural</td>\n",
       "      <td>164</td>\n",
       "      <td>53991</td>\n",
       "      <td>139</td>\n",
       "      <td>45651</td>\n",
       "      <td>7654</td>\n",
       "      <td>12</td>\n",
       "      <td>686</td>\n",
       "      <td>0</td>\n",
       "    </tr>\n",
       "    <tr>\n",
       "      <th>303</th>\n",
       "      <td>2021-06-03</td>\n",
       "      <td>Bengaluru Rural</td>\n",
       "      <td>760</td>\n",
       "      <td>54751</td>\n",
       "      <td>243</td>\n",
       "      <td>45894</td>\n",
       "      <td>8160</td>\n",
       "      <td>11</td>\n",
       "      <td>697</td>\n",
       "      <td>0</td>\n",
       "    </tr>\n",
       "  </tbody>\n",
       "</table>\n",
       "<p>304 rows × 10 columns</p>\n",
       "</div>"
      ],
      "text/plain": [
       "           Date    District Name  Today’s Positives  Total Positives  \\\n",
       "0    2020-07-01  Bengaluru Rural                 29              158   \n",
       "1    2020-07-02  Bengaluru Rural                  5              163   \n",
       "2    2020-07-03  Bengaluru Rural                 44              207   \n",
       "3    2020-07-04  Bengaluru Rural                 11              218   \n",
       "4    2020-07-05  Bengaluru Rural                  0              218   \n",
       "..          ...              ...                ...              ...   \n",
       "299  2021-05-30  Bengaluru Rural                392            53242   \n",
       "300  2021-05-31  Bengaluru Rural                383            53625   \n",
       "301  2021-06-01  Bengaluru Rural                202            53827   \n",
       "302  2021-06-02  Bengaluru Rural                164            53991   \n",
       "303  2021-06-03  Bengaluru Rural                760            54751   \n",
       "\n",
       "     Today’s Discharges  Total Discharges  Total Active Cases  \\\n",
       "0                     0                14                 140   \n",
       "1                    32                46                 113   \n",
       "2                     0                46                 156   \n",
       "3                     0                46                 166   \n",
       "4                     0                46                 166   \n",
       "..                  ...               ...                 ...   \n",
       "299                2142             41380               11209   \n",
       "300                2562             43942                9020   \n",
       "301                1570             45512                7641   \n",
       "302                 139             45651                7654   \n",
       "303                 243             45894                8160   \n",
       "\n",
       "     Today’s Reported Covid Deaths  Total Covid Deaths  \\\n",
       "0                                0                   4   \n",
       "1                                0                   4   \n",
       "2                                1                   5   \n",
       "3                                1                   6   \n",
       "4                                0                   6   \n",
       "..                             ...                 ...   \n",
       "299                             10                 653   \n",
       "300                             10                 663   \n",
       "301                             11                 674   \n",
       "302                             12                 686   \n",
       "303                             11                 697   \n",
       "\n",
       "     Death due to Non- Covid reasons  \n",
       "0                                  0  \n",
       "1                                  0  \n",
       "2                                  0  \n",
       "3                                  0  \n",
       "4                                  0  \n",
       "..                               ...  \n",
       "299                                0  \n",
       "300                                0  \n",
       "301                                0  \n",
       "302                                0  \n",
       "303                                0  \n",
       "\n",
       "[304 rows x 10 columns]"
      ]
     },
     "execution_count": 4,
     "metadata": {},
     "output_type": "execute_result"
    }
   ],
   "source": [
    "df"
   ]
  },
  {
   "cell_type": "code",
   "execution_count": 5,
   "id": "7e4094a5-47be-4f51-8385-184e957ddc7b",
   "metadata": {},
   "outputs": [
    {
     "data": {
      "text/plain": [
       "<AxesSubplot:>"
      ]
     },
     "execution_count": 5,
     "metadata": {},
     "output_type": "execute_result"
    },
    {
     "data": {
      "image/png": "[encoded data removed]",
      "text/plain": [
       "<Figure size 432x288 with 1 Axes>"
      ]
     },
     "metadata": {
      "needs_background": "light"
     },
     "output_type": "display_data"
    }
   ],
   "source": [
    "dfts = pd.DataFrame()\n",
    "dfts[\"\"\"Positive Cases\"\"\"]=df[\"\"\"Today’s Positives\"\"\"]\n",
    "dfts['Date']=df['Date']\n",
    "dfts['EMA'] = dfts.iloc[:,0].ewm(span=12,adjust=False).mean()\n",
    "dfts\n",
    "title=dist\n",
    "dfts.plot()"
   ]
  },
  {
   "cell_type": "code",
   "execution_count": 6,
   "id": "8f1821fa-12d0-44c5-a781-1e735acc65d1",
   "metadata": {},
   "outputs": [
    {
     "data": {
      "text/html": [
       "<div>\n",
       "<style scoped>\n",
       "    .dataframe tbody tr th:only-of-type {\n",
       "        vertical-align: middle;\n",
       "    }\n",
       "\n",
       "    .dataframe tbody tr th {\n",
       "        vertical-align: top;\n",
       "    }\n",
       "\n",
       "    .dataframe thead th {\n",
       "        text-align: right;\n",
       "    }\n",
       "</style>\n",
       "<table border=\"1\" class=\"dataframe\">\n",
       "  <thead>\n",
       "    <tr style=\"text-align: right;\">\n",
       "      <th></th>\n",
       "      <th>Positive Cases</th>\n",
       "      <th>Date</th>\n",
       "      <th>EMA</th>\n",
       "    </tr>\n",
       "  </thead>\n",
       "  <tbody>\n",
       "    <tr>\n",
       "      <th>0</th>\n",
       "      <td>29</td>\n",
       "      <td>2020-07-01</td>\n",
       "      <td>29.000000</td>\n",
       "    </tr>\n",
       "    <tr>\n",
       "      <th>1</th>\n",
       "      <td>5</td>\n",
       "      <td>2020-07-02</td>\n",
       "      <td>25.307692</td>\n",
       "    </tr>\n",
       "    <tr>\n",
       "      <th>2</th>\n",
       "      <td>44</td>\n",
       "      <td>2020-07-03</td>\n",
       "      <td>28.183432</td>\n",
       "    </tr>\n",
       "    <tr>\n",
       "      <th>3</th>\n",
       "      <td>11</td>\n",
       "      <td>2020-07-04</td>\n",
       "      <td>25.539827</td>\n",
       "    </tr>\n",
       "    <tr>\n",
       "      <th>4</th>\n",
       "      <td>0</td>\n",
       "      <td>2020-07-05</td>\n",
       "      <td>21.610623</td>\n",
       "    </tr>\n",
       "    <tr>\n",
       "      <th>...</th>\n",
       "      <td>...</td>\n",
       "      <td>...</td>\n",
       "      <td>...</td>\n",
       "    </tr>\n",
       "    <tr>\n",
       "      <th>299</th>\n",
       "      <td>392</td>\n",
       "      <td>2021-05-30</td>\n",
       "      <td>620.435626</td>\n",
       "    </tr>\n",
       "    <tr>\n",
       "      <th>300</th>\n",
       "      <td>383</td>\n",
       "      <td>2021-05-31</td>\n",
       "      <td>583.907068</td>\n",
       "    </tr>\n",
       "    <tr>\n",
       "      <th>301</th>\n",
       "      <td>202</td>\n",
       "      <td>2021-06-01</td>\n",
       "      <td>525.152135</td>\n",
       "    </tr>\n",
       "    <tr>\n",
       "      <th>302</th>\n",
       "      <td>164</td>\n",
       "      <td>2021-06-02</td>\n",
       "      <td>469.590268</td>\n",
       "    </tr>\n",
       "    <tr>\n",
       "      <th>303</th>\n",
       "      <td>760</td>\n",
       "      <td>2021-06-03</td>\n",
       "      <td>514.268688</td>\n",
       "    </tr>\n",
       "  </tbody>\n",
       "</table>\n",
       "<p>304 rows × 3 columns</p>\n",
       "</div>"
      ],
      "text/plain": [
       "     Positive Cases        Date         EMA\n",
       "0                29  2020-07-01   29.000000\n",
       "1                 5  2020-07-02   25.307692\n",
       "2                44  2020-07-03   28.183432\n",
       "3                11  2020-07-04   25.539827\n",
       "4                 0  2020-07-05   21.610623\n",
       "..              ...         ...         ...\n",
       "299             392  2021-05-30  620.435626\n",
       "300             383  2021-05-31  583.907068\n",
       "301             202  2021-06-01  525.152135\n",
       "302             164  2021-06-02  469.590268\n",
       "303             760  2021-06-03  514.268688\n",
       "\n",
       "[304 rows x 3 columns]"
      ]
     },
     "execution_count": 6,
     "metadata": {},
     "output_type": "execute_result"
    }
   ],
   "source": [
    "dfts.shape\n",
    "dfts"
   ]
  },
  {
   "cell_type": "code",
   "execution_count": 7,
   "id": "3e4d7c07-20ba-4f42-9fe7-d749330646ca",
   "metadata": {},
   "outputs": [
    {
     "data": {
      "text/html": [
       "<div>\n",
       "<style scoped>\n",
       "    .dataframe tbody tr th:only-of-type {\n",
       "        vertical-align: middle;\n",
       "    }\n",
       "\n",
       "    .dataframe tbody tr th {\n",
       "        vertical-align: top;\n",
       "    }\n",
       "\n",
       "    .dataframe thead th {\n",
       "        text-align: right;\n",
       "    }\n",
       "</style>\n",
       "<table border=\"1\" class=\"dataframe\">\n",
       "  <thead>\n",
       "    <tr style=\"text-align: right;\">\n",
       "      <th></th>\n",
       "      <th>Positive Cases</th>\n",
       "      <th>Date</th>\n",
       "      <th>EMA</th>\n",
       "    </tr>\n",
       "  </thead>\n",
       "  <tbody>\n",
       "    <tr>\n",
       "      <th>0</th>\n",
       "      <td>29</td>\n",
       "      <td>2020-07-01</td>\n",
       "      <td>29.000000</td>\n",
       "    </tr>\n",
       "    <tr>\n",
       "      <th>1</th>\n",
       "      <td>5</td>\n",
       "      <td>2020-07-02</td>\n",
       "      <td>25.307692</td>\n",
       "    </tr>\n",
       "    <tr>\n",
       "      <th>2</th>\n",
       "      <td>44</td>\n",
       "      <td>2020-07-03</td>\n",
       "      <td>28.183432</td>\n",
       "    </tr>\n",
       "    <tr>\n",
       "      <th>3</th>\n",
       "      <td>11</td>\n",
       "      <td>2020-07-04</td>\n",
       "      <td>25.539827</td>\n",
       "    </tr>\n",
       "    <tr>\n",
       "      <th>4</th>\n",
       "      <td>0</td>\n",
       "      <td>2020-07-05</td>\n",
       "      <td>21.610623</td>\n",
       "    </tr>\n",
       "  </tbody>\n",
       "</table>\n",
       "</div>"
      ],
      "text/plain": [
       "   Positive Cases        Date        EMA\n",
       "0              29  2020-07-01  29.000000\n",
       "1               5  2020-07-02  25.307692\n",
       "2              44  2020-07-03  28.183432\n",
       "3              11  2020-07-04  25.539827\n",
       "4               0  2020-07-05  21.610623"
      ]
     },
     "execution_count": 7,
     "metadata": {},
     "output_type": "execute_result"
    }
   ],
   "source": [
    "dfts.head()"
   ]
  },
  {
   "cell_type": "code",
   "execution_count": 8,
   "id": "2ea49607-a8a6-43ae-a393-385d12638012",
   "metadata": {},
   "outputs": [],
   "source": [
    "fig = px.line(dfts, x='Date', y=\"\"\"Positive Cases\"\"\", title=dist+' Positive Cases')\n",
    "fig.show()"
   ]
  },
  {
   "cell_type": "code",
   "execution_count": 9,
   "id": "dd753ddc-4f27-4592-b1ad-b88d3f1def70",
   "metadata": {},
   "outputs": [],
   "source": [
    "dfts = dfts.assign(Percentage = lambda x: (dfts[\"\"\"Positive Cases\"\"\"] /10960871))"
   ]
  },
  {
   "cell_type": "code",
   "execution_count": 25,
   "id": "c9e48bbd-4c3a-4546-aede-0b72956c74ac",
   "metadata": {},
   "outputs": [],
   "source": [
    "dfts['Percentage'] = dfts['Percentage'].round(decimals=6)"
   ]
  },
  {
   "cell_type": "code",
   "execution_count": 82,
   "id": "e676a81f-7329-440c-87d8-ef226a94859b",
   "metadata": {},
   "outputs": [],
   "source": [
    "fig = go.Figure()\n",
    "\n",
    "fig.add_trace(go.Scatter(x=dfts['Date'], y=dfts['Percentage'], name='Population Percentage'))\n",
    "\n",
    "# Edit the layout\n",
    "fig.update_layout(title='Percentage of Postive cases in ' + dist + ' District',\n",
    "                   xaxis_title='Date',\n",
    "                   yaxis_title='Percentage')\n",
    "\n",
    "fig.show()"
   ]
  },
  {
   "cell_type": "code",
   "execution_count": 28,
   "id": "941f5239-3ba9-41cc-8643-7994bbfee16c",
   "metadata": {},
   "outputs": [],
   "source": [
    "fig = go.Figure()\n",
    "fig.add_trace(go.Scatter(x=dfts['Date'], y=dfts[\"\"\"Positive Cases\"\"\"], name='Postive Cases'))\n",
    "fig.add_trace(go.Scatter(x=dfts['Date'], y=dfts['EMA'], name='Exp Moving Avg'))\n",
    "#fig.add_trace(go.Scatter(x=dfts['Date'], y=dfts['Percentage'], name='Population Percentage'))\n",
    "\n",
    "# Edit the layout\n",
    "fig.update_layout(title='Postive cases in '+dist+' District',\n",
    "                   xaxis_title='Date',\n",
    "                   yaxis_title='Count of Cases')\n",
    "\n",
    "fig.show()"
   ]
  },
  {
   "cell_type": "code",
   "execution_count": null,
   "id": "4ee1eb06-1ef3-4d0b-9a20-8f819a04269e",
   "metadata": {},
   "outputs": [],
   "source": []
  },
  {
   "cell_type": "code",
   "execution_count": null,
   "id": "aa273778-f7d3-472b-9850-aba5d07d49fc",
   "metadata": {},
   "outputs": [],
   "source": []
  },
  {
   "cell_type": "code",
   "execution_count": null,
   "id": "7c81d54c-1650-40d1-8d1c-7f0d133ceb59",
   "metadata": {},
   "outputs": [],
   "source": []
  },
  {
   "cell_type": "code",
   "execution_count": null,
   "id": "7b7946dd-ee29-4a86-98fe-c3b8fbe88c5e",
   "metadata": {},
   "outputs": [],
   "source": []
  },
  {
   "cell_type": "code",
   "execution_count": null,
   "id": "8d8c4125-dd2d-416b-aaae-a3631771be52",
   "metadata": {},
   "outputs": [],
   "source": []
  },
  {
   "cell_type": "code",
   "execution_count": 51,
   "id": "b4f21670-b3c2-41f5-a820-f9d1b9b2c21e",
   "metadata": {},
   "outputs": [
    {
     "name": "stdin",
     "output_type": "stream",
     "text": [
      "Enter District Name Bengaluru Rural\n"
     ]
    }
   ],
   "source": [
    "#Bengaluru Urban\n",
    "dist = input(\"Enter District Name\")"
   ]
  },
  {
   "cell_type": "code",
   "execution_count": 54,
   "id": "e7714b03-0753-4802-beca-754fe6ddb86c",
   "metadata": {},
   "outputs": [],
   "source": [
    "df = pd.read_excel('DATA/Wave-2 District data/'+dist+' Wave2.xlsx')\n",
    "# df['Date']=pd.to_datetime(df['Date'])"
   ]
  },
  {
   "cell_type": "code",
   "execution_count": 55,
   "id": "0ce04732-5eb2-4127-b24d-b5aa2782cb1a",
   "metadata": {},
   "outputs": [],
   "source": [
    "### Testing For Stationarity\n",
    "from statsmodels.tsa.stattools import adfuller"
   ]
  },
  {
   "cell_type": "code",
   "execution_count": 56,
   "id": "cd9d55a0-a553-4671-b469-b217d3d1a535",
   "metadata": {},
   "outputs": [],
   "source": [
    "#Ho: It is non stationary\n",
    "#H1: It is stationary\n",
    "\n",
    "def adfuller_test(sales):\n",
    "    result=adfuller(sales)\n",
    "    labels = ['ADF Test Statistic','p-value','#Lags Used','Number of Observations Used']\n",
    "    for value,label in zip(result,labels):\n",
    "        print(label+' : '+str(value) )\n",
    "    if result[1] <= 0.05:\n",
    "        print(\"strong evidence against the null hypothesis(Ho), reject the null hypothesis. Data has no unit root and is stationary\")\n",
    "    else:\n",
    "        print(\"weak evidence against null hypothesis, time series has a unit root, indicating it is non-stationary \")\n",
    "    "
   ]
  },
  {
   "cell_type": "code",
   "execution_count": 57,
   "id": "d741ef08-93e7-48b5-956b-59bf5c07e891",
   "metadata": {},
   "outputs": [
    {
     "name": "stdout",
     "output_type": "stream",
     "text": [
      "ADF Test Statistic : -1.2212291064499659\n",
      "p-value : 0.6643974730412526\n",
      "#Lags Used : 3\n",
      "Number of Observations Used : 91\n",
      "weak evidence against null hypothesis, time series has a unit root, indicating it is non-stationary \n"
     ]
    }
   ],
   "source": [
    "adfuller_test(df[\"\"\"Today’s Positives\"\"\"])"
   ]
  },
  {
   "cell_type": "code",
   "execution_count": 58,
   "id": "ed643340-3e3f-4405-b4c2-d0f79e77ddf8",
   "metadata": {},
   "outputs": [
    {
     "data": {
      "text/html": [
       "<div>\n",
       "<style scoped>\n",
       "    .dataframe tbody tr th:only-of-type {\n",
       "        vertical-align: middle;\n",
       "    }\n",
       "\n",
       "    .dataframe tbody tr th {\n",
       "        vertical-align: top;\n",
       "    }\n",
       "\n",
       "    .dataframe thead th {\n",
       "        text-align: right;\n",
       "    }\n",
       "</style>\n",
       "<table border=\"1\" class=\"dataframe\">\n",
       "  <thead>\n",
       "    <tr style=\"text-align: right;\">\n",
       "      <th></th>\n",
       "      <th>Positive Cases</th>\n",
       "      <th>Date</th>\n",
       "      <th>EMA</th>\n",
       "      <th>Percentage</th>\n",
       "      <th>forecast</th>\n",
       "      <th>Difference</th>\n",
       "    </tr>\n",
       "  </thead>\n",
       "  <tbody>\n",
       "    <tr>\n",
       "      <th>0</th>\n",
       "      <td>29</td>\n",
       "      <td>2020-07-01</td>\n",
       "      <td>29.000000</td>\n",
       "      <td>0.000003</td>\n",
       "      <td>NaN</td>\n",
       "      <td>NaN</td>\n",
       "    </tr>\n",
       "    <tr>\n",
       "      <th>1</th>\n",
       "      <td>5</td>\n",
       "      <td>2020-07-02</td>\n",
       "      <td>25.307692</td>\n",
       "      <td>0.000000</td>\n",
       "      <td>NaN</td>\n",
       "      <td>0.0</td>\n",
       "    </tr>\n",
       "    <tr>\n",
       "      <th>2</th>\n",
       "      <td>44</td>\n",
       "      <td>2020-07-03</td>\n",
       "      <td>28.183432</td>\n",
       "      <td>0.000004</td>\n",
       "      <td>NaN</td>\n",
       "      <td>3.0</td>\n",
       "    </tr>\n",
       "    <tr>\n",
       "      <th>3</th>\n",
       "      <td>11</td>\n",
       "      <td>2020-07-04</td>\n",
       "      <td>25.539827</td>\n",
       "      <td>0.000001</td>\n",
       "      <td>NaN</td>\n",
       "      <td>-2.0</td>\n",
       "    </tr>\n",
       "    <tr>\n",
       "      <th>4</th>\n",
       "      <td>0</td>\n",
       "      <td>2020-07-05</td>\n",
       "      <td>21.610623</td>\n",
       "      <td>0.000000</td>\n",
       "      <td>NaN</td>\n",
       "      <td>4.0</td>\n",
       "    </tr>\n",
       "  </tbody>\n",
       "</table>\n",
       "</div>"
      ],
      "text/plain": [
       "   Positive Cases        Date        EMA  Percentage  forecast  Difference\n",
       "0              29  2020-07-01  29.000000    0.000003       NaN         NaN\n",
       "1               5  2020-07-02  25.307692    0.000000       NaN         0.0\n",
       "2              44  2020-07-03  28.183432    0.000004       NaN         3.0\n",
       "3              11  2020-07-04  25.539827    0.000001       NaN        -2.0\n",
       "4               0  2020-07-05  21.610623    0.000000       NaN         4.0"
      ]
     },
     "execution_count": 58,
     "metadata": {},
     "output_type": "execute_result"
    }
   ],
   "source": [
    "# dfts['Difference'] = df[\"\"\"Today’s Positives\"\"\"] - df[\"\"\"Today’s Positives\"\"\"].shift(3)\n",
    "dfts['Difference'] = df[\"\"\"Today’s Positives\"\"\"].diff()\n",
    "dfts.head()"
   ]
  },
  {
   "cell_type": "code",
   "execution_count": 59,
   "id": "89d5fbca-4331-4213-aef3-99e5784efe51",
   "metadata": {},
   "outputs": [
    {
     "data": {
      "text/plain": [
       "<AxesSubplot:>"
      ]
     },
     "execution_count": 59,
     "metadata": {},
     "output_type": "execute_result"
    },
    {
     "data": {
      "image/png": "[encoded data removed]",
      "text/plain": [
       "<Figure size 432x288 with 1 Axes>"
      ]
     },
     "metadata": {
      "needs_background": "light"
     },
     "output_type": "display_data"
    }
   ],
   "source": [
    "dfts['Difference'].plot()"
   ]
  },
  {
   "cell_type": "code",
   "execution_count": 60,
   "id": "7a6cbb5e-44a0-4489-9a12-5b795ed84ce0",
   "metadata": {},
   "outputs": [
    {
     "name": "stdout",
     "output_type": "stream",
     "text": [
      "ADF Test Statistic : -8.97014075292239\n",
      "p-value : 7.793855676354824e-15\n",
      "#Lags Used : 2\n",
      "Number of Observations Used : 91\n",
      "strong evidence against the null hypothesis(Ho), reject the null hypothesis. Data has no unit root and is stationary\n"
     ]
    }
   ],
   "source": [
    "## Again test dickey fuller test\n",
    "adfuller_test(dfts['Difference'].dropna())"
   ]
  },
  {
   "cell_type": "code",
   "execution_count": 61,
   "id": "ead1f7fc-51e4-4e3b-9233-28f2b17a7049",
   "metadata": {},
   "outputs": [],
   "source": [
    "# dfts['Second Difference'] = df[\"\"\"Today’s Positives\"\"\"] - df[\"\"\"Today’s Positives\"\"\"].shift(2)\n",
    "# dfts['Second Difference'].plot()\n",
    "# # Again test dickey fuller test\n",
    "# adfuller_test(dfts['Second Difference'].dropna())"
   ]
  },
  {
   "cell_type": "code",
   "execution_count": 64,
   "id": "0d5589f2-1aa9-45be-9745-e1135cca38a1",
   "metadata": {},
   "outputs": [
    {
     "data": {
      "text/plain": [
       "<AxesSubplot:xlabel='Lag', ylabel='Autocorrelation'>"
      ]
     },
     "execution_count": 64,
     "metadata": {},
     "output_type": "execute_result"
    },
    {
     "data": {
      "image/png": "[encoded data removed]",
      "text/plain": [
       "<Figure size 432x288 with 1 Axes>"
      ]
     },
     "metadata": {
      "needs_background": "light"
     },
     "output_type": "display_data"
    }
   ],
   "source": [
    "# autocorrelation_plot(dfts['Difference'])\n",
    "autocorrelation_plot(df[\"\"\"Today’s Positives\"\"\"])\n",
    "# plt.show()\n",
    "# plt.savefig('Autocorelation.png')"
   ]
  },
  {
   "cell_type": "code",
   "execution_count": 65,
   "id": "6e1e30c3-1077-4331-b218-c890915423d9",
   "metadata": {},
   "outputs": [
    {
     "name": "stderr",
     "output_type": "stream",
     "text": [
      "c:\\users\\danie\\appdata\\local\\programs\\python\\python39\\lib\\site-packages\\statsmodels\\regression\\linear_model.py:1434: RuntimeWarning:\n",
      "\n",
      "invalid value encountered in sqrt\n",
      "\n"
     ]
    },
    {
     "data": {
      "image/png": "[encoded data removed]",
      "text/plain": [
       "<Figure size 864x576 with 2 Axes>"
      ]
     },
     "metadata": {
      "needs_background": "light"
     },
     "output_type": "display_data"
    }
   ],
   "source": [
    "fig = plt.figure(figsize=(12,8))\n",
    "ax1 = fig.add_subplot(211)\n",
    "fig = sm.graphics.tsa.plot_acf(df[\"\"\"Today’s Positives\"\"\"].iloc[3:],lags=20,ax=ax1)\n",
    "ax2 = fig.add_subplot(212)\n",
    "fig = sm.graphics.tsa.plot_pacf(df[\"\"\"Today’s Positives\"\"\"].iloc[3:],lags=20,ax=ax2)"
   ]
  },
  {
   "cell_type": "code",
   "execution_count": 37,
   "id": "3f5059eb-c800-45a7-a7e3-0ce69c9e4e7e",
   "metadata": {},
   "outputs": [
    {
     "data": {
      "text/plain": [
       "0         NaN\n",
       "1         NaN\n",
       "2       259.0\n",
       "3       283.0\n",
       "4       241.0\n",
       "        ...  \n",
       "296   -1002.0\n",
       "297    -897.0\n",
       "298   -1316.0\n",
       "299     103.0\n",
       "300     115.0\n",
       "Name: Second Difference, Length: 301, dtype: float64"
      ]
     },
     "execution_count": 37,
     "metadata": {},
     "output_type": "execute_result"
    }
   ],
   "source": [
    "# For non-seasonal data\n",
    "#p=1, d=1, q=0 or 1\n",
    "from statsmodels.tsa.arima_model import ARIMA\n",
    "dfts['Second Difference']"
   ]
  },
  {
   "cell_type": "code",
   "execution_count": 66,
   "id": "742a135a-a37d-48b1-95ad-c54760da557c",
   "metadata": {},
   "outputs": [
    {
     "name": "stderr",
     "output_type": "stream",
     "text": [
      "c:\\users\\danie\\appdata\\local\\programs\\python\\python39\\lib\\site-packages\\statsmodels\\tsa\\arima_model.py:472: FutureWarning:\n",
      "\n",
      "\n",
      "statsmodels.tsa.arima_model.ARMA and statsmodels.tsa.arima_model.ARIMA have\n",
      "been deprecated in favor of statsmodels.tsa.arima.model.ARIMA (note the .\n",
      "between arima and model) and\n",
      "statsmodels.tsa.SARIMAX. These will be removed after the 0.12 release.\n",
      "\n",
      "statsmodels.tsa.arima.model.ARIMA makes use of the statespace framework and\n",
      "is both well tested and maintained.\n",
      "\n",
      "To silence this warning and continue using ARMA and ARIMA until they are\n",
      "removed, use:\n",
      "\n",
      "import warnings\n",
      "warnings.filterwarnings('ignore', 'statsmodels.tsa.arima_model.ARMA',\n",
      "                        FutureWarning)\n",
      "warnings.filterwarnings('ignore', 'statsmodels.tsa.arima_model.ARIMA',\n",
      "                        FutureWarning)\n",
      "\n",
      "\n",
      "c:\\users\\danie\\appdata\\local\\programs\\python\\python39\\lib\\site-packages\\statsmodels\\tsa\\arima_model.py:472: FutureWarning:\n",
      "\n",
      "\n",
      "statsmodels.tsa.arima_model.ARMA and statsmodels.tsa.arima_model.ARIMA have\n",
      "been deprecated in favor of statsmodels.tsa.arima.model.ARIMA (note the .\n",
      "between arima and model) and\n",
      "statsmodels.tsa.SARIMAX. These will be removed after the 0.12 release.\n",
      "\n",
      "statsmodels.tsa.arima.model.ARIMA makes use of the statespace framework and\n",
      "is both well tested and maintained.\n",
      "\n",
      "To silence this warning and continue using ARMA and ARIMA until they are\n",
      "removed, use:\n",
      "\n",
      "import warnings\n",
      "warnings.filterwarnings('ignore', 'statsmodels.tsa.arima_model.ARMA',\n",
      "                        FutureWarning)\n",
      "warnings.filterwarnings('ignore', 'statsmodels.tsa.arima_model.ARIMA',\n",
      "                        FutureWarning)\n",
      "\n",
      "\n"
     ]
    }
   ],
   "source": [
    "model=ARIMA(df[\"\"\"Today’s Positives\"\"\"],order=(1,1,1))\n",
    "model_fit=model.fit()"
   ]
  },
  {
   "cell_type": "code",
   "execution_count": 67,
   "id": "02dc0995-241a-488a-967c-12298865e08b",
   "metadata": {},
   "outputs": [
    {
     "data": {
      "text/html": [
       "<table class=\"simpletable\">\n",
       "<caption>ARIMA Model Results</caption>\n",
       "<tr>\n",
       "  <th>Dep. Variable:</th> <td>D.Today’s Positives</td> <th>  No. Observations:  </th>    <td>94</td>   \n",
       "</tr>\n",
       "<tr>\n",
       "  <th>Model:</th>           <td>ARIMA(1, 1, 1)</td>    <th>  Log Likelihood     </th> <td>-623.299</td>\n",
       "</tr>\n",
       "<tr>\n",
       "  <th>Method:</th>              <td>css-mle</td>       <th>  S.D. of innovations</th>  <td>182.843</td>\n",
       "</tr>\n",
       "<tr>\n",
       "  <th>Date:</th>           <td>Wed, 09 Jun 2021</td>   <th>  AIC                </th> <td>1254.599</td>\n",
       "</tr>\n",
       "<tr>\n",
       "  <th>Time:</th>               <td>20:16:39</td>       <th>  BIC                </th> <td>1264.772</td>\n",
       "</tr>\n",
       "<tr>\n",
       "  <th>Sample:</th>                 <td>1</td>          <th>  HQIC               </th> <td>1258.708</td>\n",
       "</tr>\n",
       "<tr>\n",
       "  <th></th>                        <td> </td>          <th>                     </th>     <td> </td>   \n",
       "</tr>\n",
       "</table>\n",
       "<table class=\"simpletable\">\n",
       "<tr>\n",
       "              <td></td>                 <th>coef</th>     <th>std err</th>      <th>z</th>      <th>P>|z|</th>  <th>[0.025</th>    <th>0.975]</th>  \n",
       "</tr>\n",
       "<tr>\n",
       "  <th>const</th>                     <td>    4.9851</td> <td>    6.481</td> <td>    0.769</td> <td> 0.442</td> <td>   -7.717</td> <td>   17.687</td>\n",
       "</tr>\n",
       "<tr>\n",
       "  <th>ar.L1.D.Today’s Positives</th> <td>   -0.0660</td> <td>    0.136</td> <td>   -0.486</td> <td> 0.627</td> <td>   -0.332</td> <td>    0.200</td>\n",
       "</tr>\n",
       "<tr>\n",
       "  <th>ma.L1.D.Today’s Positives</th> <td>   -0.6411</td> <td>    0.085</td> <td>   -7.530</td> <td> 0.000</td> <td>   -0.808</td> <td>   -0.474</td>\n",
       "</tr>\n",
       "</table>\n",
       "<table class=\"simpletable\">\n",
       "<caption>Roots</caption>\n",
       "<tr>\n",
       "    <td></td>   <th>            Real</th>  <th>         Imaginary</th> <th>         Modulus</th>  <th>        Frequency</th>\n",
       "</tr>\n",
       "<tr>\n",
       "  <th>AR.1</th> <td>         -15.1406</td> <td>          +0.0000j</td> <td>          15.1406</td> <td>           0.5000</td>\n",
       "</tr>\n",
       "<tr>\n",
       "  <th>MA.1</th> <td>           1.5599</td> <td>          +0.0000j</td> <td>           1.5599</td> <td>           0.0000</td>\n",
       "</tr>\n",
       "</table>"
      ],
      "text/plain": [
       "<class 'statsmodels.iolib.summary.Summary'>\n",
       "\"\"\"\n",
       "                              ARIMA Model Results                              \n",
       "===============================================================================\n",
       "Dep. Variable:     D.Today’s Positives   No. Observations:                   94\n",
       "Model:                  ARIMA(1, 1, 1)   Log Likelihood                -623.299\n",
       "Method:                        css-mle   S.D. of innovations            182.843\n",
       "Date:                 Wed, 09 Jun 2021   AIC                           1254.599\n",
       "Time:                         20:16:39   BIC                           1264.772\n",
       "Sample:                              1   HQIC                          1258.708\n",
       "                                                                               \n",
       "=============================================================================================\n",
       "                                coef    std err          z      P>|z|      [0.025      0.975]\n",
       "---------------------------------------------------------------------------------------------\n",
       "const                         4.9851      6.481      0.769      0.442      -7.717      17.687\n",
       "ar.L1.D.Today’s Positives    -0.0660      0.136     -0.486      0.627      -0.332       0.200\n",
       "ma.L1.D.Today’s Positives    -0.6411      0.085     -7.530      0.000      -0.808      -0.474\n",
       "                                    Roots                                    \n",
       "=============================================================================\n",
       "                  Real          Imaginary           Modulus         Frequency\n",
       "-----------------------------------------------------------------------------\n",
       "AR.1          -15.1406           +0.0000j           15.1406            0.5000\n",
       "MA.1            1.5599           +0.0000j            1.5599            0.0000\n",
       "-----------------------------------------------------------------------------\n",
       "\"\"\""
      ]
     },
     "execution_count": 67,
     "metadata": {},
     "output_type": "execute_result"
    }
   ],
   "source": [
    "model_fit.summary()"
   ]
  },
  {
   "cell_type": "code",
   "execution_count": 71,
   "id": "69580c50-41c6-4e69-8359-402bda099c9d",
   "metadata": {},
   "outputs": [
    {
     "data": {
      "text/plain": [
       "<AxesSubplot:>"
      ]
     },
     "execution_count": 71,
     "metadata": {},
     "output_type": "execute_result"
    },
    {
     "data": {
      "image/png": "[encoded data removed]",
      "text/plain": [
       "<Figure size 864x576 with 1 Axes>"
      ]
     },
     "metadata": {
      "needs_background": "light"
     },
     "output_type": "display_data"
    }
   ],
   "source": [
    "df['forecast']=model_fit.predict(start=80,end=90,dynamic=True)\n",
    "df[[\"\"\"Today’s Positives\"\"\",'forecast']].plot(figsize=(12,8))"
   ]
  },
  {
   "cell_type": "code",
   "execution_count": 78,
   "id": "a998e8f4-11e7-4d7e-9afa-1c61f0c9313f",
   "metadata": {},
   "outputs": [
    {
     "name": "stderr",
     "output_type": "stream",
     "text": [
      "c:\\users\\danie\\appdata\\local\\programs\\python\\python39\\lib\\site-packages\\statsmodels\\base\\model.py:566: ConvergenceWarning:\n",
      "\n",
      "Maximum Likelihood optimization failed to converge. Check mle_retvals\n",
      "\n"
     ]
    }
   ],
   "source": [
    "model=sm.tsa.statespace.SARIMAX(df[\"\"\"Today’s Positives\"\"\"],order=(1,1,1),seasonal_order=(1,1,1,12))\n",
    "results=model.fit()"
   ]
  },
  {
   "cell_type": "code",
   "execution_count": 81,
   "id": "bc7d04b0-951d-414b-a6d6-60b263eb28bb",
   "metadata": {},
   "outputs": [
    {
     "data": {
      "text/plain": [
       "<AxesSubplot:>"
      ]
     },
     "execution_count": 81,
     "metadata": {},
     "output_type": "execute_result"
    },
    {
     "data": {
      "image/png": "[encoded data removed]",
      "text/plain": [
       "<Figure size 864x576 with 1 Axes>"
      ]
     },
     "metadata": {
      "needs_background": "light"
     },
     "output_type": "display_data"
    }
   ],
   "source": [
    "df['forecast']=results.predict(start=85,end=95,dynamic=True)\n",
    "df[[\"\"\"Today’s Positives\"\"\",'forecast']].plot(figsize=(12,8))"
   ]
  },
  {
   "cell_type": "code",
   "execution_count": 76,
   "id": "d244f638-ab8c-4cd4-beaa-dce58979d367",
   "metadata": {},
   "outputs": [
    {
     "name": "stderr",
     "output_type": "stream",
     "text": [
      "c:\\users\\danie\\appdata\\local\\programs\\python\\python39\\lib\\site-packages\\statsmodels\\tsa\\statespace\\kalman_filter.py:2290: ValueWarning:\n",
      "\n",
      "Dynamic prediction specified to begin during out-of-sample forecasting period, and so has no effect.\n",
      "\n"
     ]
    },
    {
     "ename": "KeyError",
     "evalue": "\"['Second Difference'] not in index\"",
     "output_type": "error",
     "traceback": [
      "\u001b[1;31m---------------------------------------------------------------------------\u001b[0m",
      "\u001b[1;31mKeyError\u001b[0m                                  Traceback (most recent call last)",
      "\u001b[1;32m<ipython-input-76-a7d6f96be0ff>\u001b[0m in \u001b[0;36m<module>\u001b[1;34m\u001b[0m\n\u001b[0;32m      1\u001b[0m \u001b[0mdfts\u001b[0m\u001b[1;33m[\u001b[0m\u001b[1;34m'forecast'\u001b[0m\u001b[1;33m]\u001b[0m\u001b[1;33m=\u001b[0m\u001b[0mresults\u001b[0m\u001b[1;33m.\u001b[0m\u001b[0mpredict\u001b[0m\u001b[1;33m(\u001b[0m\u001b[0mstart\u001b[0m\u001b[1;33m=\u001b[0m\u001b[1;36m150\u001b[0m\u001b[1;33m,\u001b[0m\u001b[0mend\u001b[0m\u001b[1;33m=\u001b[0m\u001b[1;36m320\u001b[0m\u001b[1;33m,\u001b[0m\u001b[0mdynamic\u001b[0m\u001b[1;33m=\u001b[0m\u001b[1;32mTrue\u001b[0m\u001b[1;33m)\u001b[0m\u001b[1;33m\u001b[0m\u001b[1;33m\u001b[0m\u001b[0m\n\u001b[1;32m----> 2\u001b[1;33m \u001b[0mdfts\u001b[0m\u001b[1;33m[\u001b[0m\u001b[1;33m[\u001b[0m\u001b[1;34m'Second Difference'\u001b[0m\u001b[1;33m,\u001b[0m\u001b[1;34m'forecast'\u001b[0m\u001b[1;33m]\u001b[0m\u001b[1;33m]\u001b[0m\u001b[1;33m.\u001b[0m\u001b[0mplot\u001b[0m\u001b[1;33m(\u001b[0m\u001b[0mfigsize\u001b[0m\u001b[1;33m=\u001b[0m\u001b[1;33m(\u001b[0m\u001b[1;36m12\u001b[0m\u001b[1;33m,\u001b[0m\u001b[1;36m8\u001b[0m\u001b[1;33m)\u001b[0m\u001b[1;33m)\u001b[0m\u001b[1;33m\u001b[0m\u001b[1;33m\u001b[0m\u001b[0m\n\u001b[0m",
      "\u001b[1;32mc:\\users\\danie\\appdata\\local\\programs\\python\\python39\\lib\\site-packages\\pandas\\core\\frame.py\u001b[0m in \u001b[0;36m__getitem__\u001b[1;34m(self, key)\u001b[0m\n\u001b[0;32m   3028\u001b[0m             \u001b[1;32mif\u001b[0m \u001b[0mis_iterator\u001b[0m\u001b[1;33m(\u001b[0m\u001b[0mkey\u001b[0m\u001b[1;33m)\u001b[0m\u001b[1;33m:\u001b[0m\u001b[1;33m\u001b[0m\u001b[1;33m\u001b[0m\u001b[0m\n\u001b[0;32m   3029\u001b[0m                 \u001b[0mkey\u001b[0m \u001b[1;33m=\u001b[0m \u001b[0mlist\u001b[0m\u001b[1;33m(\u001b[0m\u001b[0mkey\u001b[0m\u001b[1;33m)\u001b[0m\u001b[1;33m\u001b[0m\u001b[1;33m\u001b[0m\u001b[0m\n\u001b[1;32m-> 3030\u001b[1;33m             \u001b[0mindexer\u001b[0m \u001b[1;33m=\u001b[0m \u001b[0mself\u001b[0m\u001b[1;33m.\u001b[0m\u001b[0mloc\u001b[0m\u001b[1;33m.\u001b[0m\u001b[0m_get_listlike_indexer\u001b[0m\u001b[1;33m(\u001b[0m\u001b[0mkey\u001b[0m\u001b[1;33m,\u001b[0m \u001b[0maxis\u001b[0m\u001b[1;33m=\u001b[0m\u001b[1;36m1\u001b[0m\u001b[1;33m,\u001b[0m \u001b[0mraise_missing\u001b[0m\u001b[1;33m=\u001b[0m\u001b[1;32mTrue\u001b[0m\u001b[1;33m)\u001b[0m\u001b[1;33m[\u001b[0m\u001b[1;36m1\u001b[0m\u001b[1;33m]\u001b[0m\u001b[1;33m\u001b[0m\u001b[1;33m\u001b[0m\u001b[0m\n\u001b[0m\u001b[0;32m   3031\u001b[0m \u001b[1;33m\u001b[0m\u001b[0m\n\u001b[0;32m   3032\u001b[0m         \u001b[1;31m# take() does not accept boolean indexers\u001b[0m\u001b[1;33m\u001b[0m\u001b[1;33m\u001b[0m\u001b[1;33m\u001b[0m\u001b[0m\n",
      "\u001b[1;32mc:\\users\\danie\\appdata\\local\\programs\\python\\python39\\lib\\site-packages\\pandas\\core\\indexing.py\u001b[0m in \u001b[0;36m_get_listlike_indexer\u001b[1;34m(self, key, axis, raise_missing)\u001b[0m\n\u001b[0;32m   1264\u001b[0m             \u001b[0mkeyarr\u001b[0m\u001b[1;33m,\u001b[0m \u001b[0mindexer\u001b[0m\u001b[1;33m,\u001b[0m \u001b[0mnew_indexer\u001b[0m \u001b[1;33m=\u001b[0m \u001b[0max\u001b[0m\u001b[1;33m.\u001b[0m\u001b[0m_reindex_non_unique\u001b[0m\u001b[1;33m(\u001b[0m\u001b[0mkeyarr\u001b[0m\u001b[1;33m)\u001b[0m\u001b[1;33m\u001b[0m\u001b[1;33m\u001b[0m\u001b[0m\n\u001b[0;32m   1265\u001b[0m \u001b[1;33m\u001b[0m\u001b[0m\n\u001b[1;32m-> 1266\u001b[1;33m         \u001b[0mself\u001b[0m\u001b[1;33m.\u001b[0m\u001b[0m_validate_read_indexer\u001b[0m\u001b[1;33m(\u001b[0m\u001b[0mkeyarr\u001b[0m\u001b[1;33m,\u001b[0m \u001b[0mindexer\u001b[0m\u001b[1;33m,\u001b[0m \u001b[0maxis\u001b[0m\u001b[1;33m,\u001b[0m \u001b[0mraise_missing\u001b[0m\u001b[1;33m=\u001b[0m\u001b[0mraise_missing\u001b[0m\u001b[1;33m)\u001b[0m\u001b[1;33m\u001b[0m\u001b[1;33m\u001b[0m\u001b[0m\n\u001b[0m\u001b[0;32m   1267\u001b[0m         \u001b[1;32mreturn\u001b[0m \u001b[0mkeyarr\u001b[0m\u001b[1;33m,\u001b[0m \u001b[0mindexer\u001b[0m\u001b[1;33m\u001b[0m\u001b[1;33m\u001b[0m\u001b[0m\n\u001b[0;32m   1268\u001b[0m \u001b[1;33m\u001b[0m\u001b[0m\n",
      "\u001b[1;32mc:\\users\\danie\\appdata\\local\\programs\\python\\python39\\lib\\site-packages\\pandas\\core\\indexing.py\u001b[0m in \u001b[0;36m_validate_read_indexer\u001b[1;34m(self, key, indexer, axis, raise_missing)\u001b[0m\n\u001b[0;32m   1314\u001b[0m             \u001b[1;32mif\u001b[0m \u001b[0mraise_missing\u001b[0m\u001b[1;33m:\u001b[0m\u001b[1;33m\u001b[0m\u001b[1;33m\u001b[0m\u001b[0m\n\u001b[0;32m   1315\u001b[0m                 \u001b[0mnot_found\u001b[0m \u001b[1;33m=\u001b[0m \u001b[0mlist\u001b[0m\u001b[1;33m(\u001b[0m\u001b[0mset\u001b[0m\u001b[1;33m(\u001b[0m\u001b[0mkey\u001b[0m\u001b[1;33m)\u001b[0m \u001b[1;33m-\u001b[0m \u001b[0mset\u001b[0m\u001b[1;33m(\u001b[0m\u001b[0max\u001b[0m\u001b[1;33m)\u001b[0m\u001b[1;33m)\u001b[0m\u001b[1;33m\u001b[0m\u001b[1;33m\u001b[0m\u001b[0m\n\u001b[1;32m-> 1316\u001b[1;33m                 \u001b[1;32mraise\u001b[0m \u001b[0mKeyError\u001b[0m\u001b[1;33m(\u001b[0m\u001b[1;34mf\"{not_found} not in index\"\u001b[0m\u001b[1;33m)\u001b[0m\u001b[1;33m\u001b[0m\u001b[1;33m\u001b[0m\u001b[0m\n\u001b[0m\u001b[0;32m   1317\u001b[0m \u001b[1;33m\u001b[0m\u001b[0m\n\u001b[0;32m   1318\u001b[0m             \u001b[0mnot_found\u001b[0m \u001b[1;33m=\u001b[0m \u001b[0mkey\u001b[0m\u001b[1;33m[\u001b[0m\u001b[0mmissing_mask\u001b[0m\u001b[1;33m]\u001b[0m\u001b[1;33m\u001b[0m\u001b[1;33m\u001b[0m\u001b[0m\n",
      "\u001b[1;31mKeyError\u001b[0m: \"['Second Difference'] not in index\""
     ]
    }
   ],
   "source": [
    "dfts['forecast']=results.predict(start=150,end=320,dynamic=True)\n",
    "dfts[['Second Difference','forecast']].plot(figsize=(12,8))"
   ]
  },
  {
   "cell_type": "code",
   "execution_count": null,
   "id": "1dcaac79-43bb-440d-b285-f32211e0f096",
   "metadata": {},
   "outputs": [],
   "source": []
  },
  {
   "cell_type": "code",
   "execution_count": null,
   "id": "309d60c9-777b-496c-a1ec-966a324ee6ca",
   "metadata": {},
   "outputs": [],
   "source": []
  },
  {
   "cell_type": "code",
   "execution_count": null,
   "id": "0cb2e765-f6cf-4e79-bf2c-1f5b42641712",
   "metadata": {},
   "outputs": [],
   "source": []
  }
 ],
 "metadata": {
  "kernelspec": {
   "display_name": "Python 3",
   "language": "python",
   "name": "python3"
  },
  "language_info": {
   "codemirror_mode": {
    "name": "ipython",
    "version": 3
   },
   "file_extension": ".py",
   "mimetype": "text/x-python",
   "name": "python",
   "nbconvert_exporter": "python",
   "pygments_lexer": "ipython3",
   "version": "3.9.5"
  }
 },
 "nbformat": 4,
 "nbformat_minor": 5
}
