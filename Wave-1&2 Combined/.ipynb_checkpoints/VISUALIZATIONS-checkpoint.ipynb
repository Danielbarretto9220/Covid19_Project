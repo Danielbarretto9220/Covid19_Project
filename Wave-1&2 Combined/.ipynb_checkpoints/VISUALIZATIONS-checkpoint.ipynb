{
 "cells": [
  {
   "cell_type": "code",
   "execution_count": 1,
   "id": "2f58215a-d1e7-4a65-a97f-83fec7d2a25f",
   "metadata": {},
   "outputs": [],
   "source": [
    "import pandas as pd \n",
    "import numpy as np \n",
    "import pandas as pd\n",
    "import plotly.express as px\n",
    "import plotly.io as pio\n",
    "pio.renderers.default = 'browser'\n",
    "import plotly.graph_objects as go"
   ]
  },
  {
   "cell_type": "code",
   "execution_count": 2,
   "id": "77772e11-fe55-492a-b5ee-e1f2bc5d1334",
   "metadata": {},
   "outputs": [
    {
     "name": "stdin",
     "output_type": "stream",
     "text": [
      "Enter District Name: Bengaluru Urban\n"
     ]
    }
   ],
   "source": [
    "dist=input(\"Enter District Name:\")"
   ]
  },
  {
   "cell_type": "code",
   "execution_count": 3,
   "id": "c264d547-190c-43d6-9012-edb89a5237a8",
   "metadata": {},
   "outputs": [
    {
     "name": "stdout",
     "output_type": "stream",
     "text": [
      "<class 'pandas.core.frame.DataFrame'>\n",
      "RangeIndex: 303 entries, 0 to 302\n",
      "Data columns (total 10 columns):\n",
      " #   Column                           Non-Null Count  Dtype \n",
      "---  ------                           --------------  ----- \n",
      " 0   Date                             303 non-null    object\n",
      " 1   District Name                    303 non-null    object\n",
      " 2   Today’s Positives                303 non-null    int64 \n",
      " 3   Total Positives                  303 non-null    int64 \n",
      " 4   Today’s Discharges               303 non-null    int64 \n",
      " 5   Total Discharges                 303 non-null    int64 \n",
      " 6   Total Active Cases               303 non-null    int64 \n",
      " 7   Today’s Reported Covid Deaths    303 non-null    int64 \n",
      " 8   Total Covid Deaths               303 non-null    int64 \n",
      " 9   Death due to Non- Covid reasons  303 non-null    int64 \n",
      "dtypes: int64(8), object(2)\n",
      "memory usage: 23.8+ KB\n"
     ]
    }
   ],
   "source": [
    "df = pd.read_csv('DATA/DISTRICTS/Belagavi.csv')\n",
    "df.info()"
   ]
  },
  {
   "cell_type": "code",
   "execution_count": 4,
   "id": "19cd0bbe-a679-4cd3-a1c5-b59496cb793f",
   "metadata": {},
   "outputs": [
    {
     "data": {
      "text/html": [
       "<div>\n",
       "<style scoped>\n",
       "    .dataframe tbody tr th:only-of-type {\n",
       "        vertical-align: middle;\n",
       "    }\n",
       "\n",
       "    .dataframe tbody tr th {\n",
       "        vertical-align: top;\n",
       "    }\n",
       "\n",
       "    .dataframe thead th {\n",
       "        text-align: right;\n",
       "    }\n",
       "</style>\n",
       "<table border=\"1\" class=\"dataframe\">\n",
       "  <thead>\n",
       "    <tr style=\"text-align: right;\">\n",
       "      <th></th>\n",
       "      <th>deaths</th>\n",
       "      <th>Deceased</th>\n",
       "      <th>Date</th>\n",
       "      <th>EMA</th>\n",
       "    </tr>\n",
       "  </thead>\n",
       "  <tbody>\n",
       "    <tr>\n",
       "      <th>0</th>\n",
       "      <td>0</td>\n",
       "      <td>0</td>\n",
       "      <td>2020-07-01</td>\n",
       "      <td>0.000000</td>\n",
       "    </tr>\n",
       "    <tr>\n",
       "      <th>1</th>\n",
       "      <td>1</td>\n",
       "      <td>1</td>\n",
       "      <td>2020-07-02</td>\n",
       "      <td>0.153846</td>\n",
       "    </tr>\n",
       "    <tr>\n",
       "      <th>2</th>\n",
       "      <td>0</td>\n",
       "      <td>0</td>\n",
       "      <td>2020-07-03</td>\n",
       "      <td>0.130178</td>\n",
       "    </tr>\n",
       "    <tr>\n",
       "      <th>3</th>\n",
       "      <td>0</td>\n",
       "      <td>0</td>\n",
       "      <td>2020-07-04</td>\n",
       "      <td>0.110150</td>\n",
       "    </tr>\n",
       "    <tr>\n",
       "      <th>4</th>\n",
       "      <td>2</td>\n",
       "      <td>2</td>\n",
       "      <td>2020-07-05</td>\n",
       "      <td>0.400896</td>\n",
       "    </tr>\n",
       "    <tr>\n",
       "      <th>...</th>\n",
       "      <td>...</td>\n",
       "      <td>...</td>\n",
       "      <td>...</td>\n",
       "      <td>...</td>\n",
       "    </tr>\n",
       "    <tr>\n",
       "      <th>298</th>\n",
       "      <td>5</td>\n",
       "      <td>5</td>\n",
       "      <td>2021-05-30</td>\n",
       "      <td>9.748597</td>\n",
       "    </tr>\n",
       "    <tr>\n",
       "      <th>299</th>\n",
       "      <td>15</td>\n",
       "      <td>15</td>\n",
       "      <td>2021-05-31</td>\n",
       "      <td>10.556505</td>\n",
       "    </tr>\n",
       "    <tr>\n",
       "      <th>300</th>\n",
       "      <td>19</td>\n",
       "      <td>19</td>\n",
       "      <td>2021-06-01</td>\n",
       "      <td>11.855504</td>\n",
       "    </tr>\n",
       "    <tr>\n",
       "      <th>301</th>\n",
       "      <td>17</td>\n",
       "      <td>17</td>\n",
       "      <td>2021-06-02</td>\n",
       "      <td>12.646965</td>\n",
       "    </tr>\n",
       "    <tr>\n",
       "      <th>302</th>\n",
       "      <td>10</td>\n",
       "      <td>10</td>\n",
       "      <td>2021-06-03</td>\n",
       "      <td>12.239740</td>\n",
       "    </tr>\n",
       "  </tbody>\n",
       "</table>\n",
       "<p>303 rows × 4 columns</p>\n",
       "</div>"
      ],
      "text/plain": [
       "     deaths  Deceased       Date        EMA\n",
       "0         0         0 2020-07-01   0.000000\n",
       "1         1         1 2020-07-02   0.153846\n",
       "2         0         0 2020-07-03   0.130178\n",
       "3         0         0 2020-07-04   0.110150\n",
       "4         2         2 2020-07-05   0.400896\n",
       "..      ...       ...        ...        ...\n",
       "298       5         5 2021-05-30   9.748597\n",
       "299      15        15 2021-05-31  10.556505\n",
       "300      19        19 2021-06-01  11.855504\n",
       "301      17        17 2021-06-02  12.646965\n",
       "302      10        10 2021-06-03  12.239740\n",
       "\n",
       "[303 rows x 4 columns]"
      ]
     },
     "metadata": {},
     "output_type": "display_data"
    }
   ],
   "source": [
    "# New dataframe for visualization \n",
    "\n",
    "\n",
    "dfts = pd.DataFrame()\n",
    "dfts[\"\"\"deaths\"\"\"]=df[\"\"\"Today’s Reported Covid Deaths\"\"\"]\n",
    "dfts[\"Deceased\"] = df['Today’s Reported Covid Deaths']\n",
    "dfts['Date']=df['Date']\n",
    "dfts['Date']=pd.to_datetime(df['Date'])\n",
    "dfts['EMA'] = dfts.iloc[:,0].ewm(span=12,adjust=False).mean()\n",
    "\n",
    "display(dfts)\n",
    "\n",
    "# Final Visualization\n",
    "fig = go.Figure()\n",
    "fig.add_trace(go.Scatter(x=dfts['Date'], y=dfts[\"\"\"deaths\"\"\"], name='Today’s Reported Covid Deaths'))\n",
    "fig.add_trace(go.Scatter(x=dfts['Date'], y=dfts['EMA'], name='Exp Moving Avg'))\n",
    "\n",
    "\n",
    "# Edit the layout\n",
    "fig.update_layout(title='Reported Deaths in '+dist+' District',\n",
    "                   xaxis_title='Date',\n",
    "                   yaxis_title='Count of Cases')\n",
    "\n",
    "fig.show()"
   ]
  },
  {
   "cell_type": "code",
   "execution_count": 5,
   "id": "af0d47c2-a41d-4fa2-84bc-e2243fe501aa",
   "metadata": {},
   "outputs": [
    {
     "data": {
      "text/plain": [
       "<AxesSubplot:>"
      ]
     },
     "execution_count": 5,
     "metadata": {},
     "output_type": "execute_result"
    },
    {
     "data": {
      "image/png": "[encoded data removed]",
      "text/plain": [
       "<Figure size 432x288 with 1 Axes>"
      ]
     },
     "metadata": {
      "needs_background": "light"
     },
     "output_type": "display_data"
    }
   ],
   "source": [
    "dfts.plot()"
   ]
  },
  {
   "cell_type": "code",
   "execution_count": null,
   "id": "4a939144-4b22-4c8e-bc12-a75aaf6f1712",
   "metadata": {},
   "outputs": [],
   "source": []
  }
 ],
 "metadata": {
  "kernelspec": {
   "display_name": "Python 3",
   "language": "python",
   "name": "python3"
  },
  "language_info": {
   "codemirror_mode": {
    "name": "ipython",
    "version": 3
   },
   "file_extension": ".py",
   "mimetype": "text/x-python",
   "name": "python",
   "nbconvert_exporter": "python",
   "pygments_lexer": "ipython3",
   "version": "3.9.5"
  }
 },
 "nbformat": 4,
 "nbformat_minor": 5
}
