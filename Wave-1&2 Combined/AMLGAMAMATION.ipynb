{
 "cells": [
  {
   "cell_type": "code",
   "execution_count": 1,
   "id": "0a6c2d84-d7b8-4494-9b7c-7dc912aaab00",
   "metadata": {},
   "outputs": [
    {
     "name": "stdout",
     "output_type": "stream",
     "text": [
      "File Last Edited on:  2021-06-08\n"
     ]
    }
   ],
   "source": [
    "from datetime import date\n",
    "from datetime import date\n",
    "\n",
    "today = date.today()\n",
    "print(\"File Last Edited on: \", today)"
   ]
  },
  {
   "cell_type": "code",
   "execution_count": 2,
   "id": "3433aac4-7945-4c40-ae6e-7f848c41325e",
   "metadata": {},
   "outputs": [],
   "source": [
    "import pandas as pd \n",
    "import numpy as np \n",
    "from datetime import date\n",
    "\n",
    "def combine(dist_name):\n",
    "    \n",
    "    dist=str(dist_name)\n",
    "    w1 = pd.read_excel('DATA/Wave-1 District data/'+dist+' Wave1.xlsx')\n",
    "    w2 = pd.read_excel('DATA/Wave-2 District data/'+dist+' Wave2.xlsx')\n",
    "\n",
    "    date_df = pd.date_range(start='07/01/2020', end='06/03/2021')\n",
    "\n",
    "    dfts = pd.DataFrame(columns = w2.columns )\n",
    "    n = 0\n",
    "    for i in date_df:\n",
    "        target_date = i\n",
    "        temp = str(target_date)[:10]\n",
    "        result = temp.split(\"-\")\n",
    "        new_result = date(int(result[0]),int(result[1]),int(result[2]))\n",
    "        month = new_result.strftime(\"%b\").upper()\n",
    "        year = result[0][2:]\n",
    "        # date_requried = the date we'll be working on for each iteration \n",
    "        date_required1 = result[2] + \"-\" + result[1] + \"-\" + result[0]\n",
    "        date_required2 = result[0] + \"-\" + result[1] + \"-\" + result[2]\n",
    "    #     print('Working on the following day: ' + date_required)\n",
    "\n",
    "        for j in w1['Date']:\n",
    "                if j == date_required1:\n",
    "                    tmp = w1[w1['Date']==j] \n",
    "                    dfts = dfts.append({'Date':date_required2 , 'District Name': tmp._get_value(n,'District_Name'), 'Today’s Positives': tmp._get_value(n,'Todays_Positives'), \n",
    "                                        'Total Positives': tmp._get_value(n,'Total_Positives'), 'Today’s Discharges': tmp._get_value(n,'Todays_Discharges'),\n",
    "                                       'Total Discharges': tmp._get_value(n,'Total_Discharges'),'Total Active Cases': tmp._get_value(n,'Total_Active_Cases'), 'Today’s Reported Covid Deaths': tmp._get_value(n,'Todays_Covid_Deaths'),\n",
    "                                       'Total Covid Deaths': tmp._get_value(n,'Total_Covid_Deaths'), 'Death due to Non- Covid reasons':  tmp._get_value(n,'Non_Covid_Deaths')}, ignore_index = True)\n",
    "                    n += 1\n",
    "\n",
    "\n",
    "        for k in w2['Date']:\n",
    "            if k == date_required2:\n",
    "                dfts = dfts.append(w2[w2['Date']==k])\n",
    "    \n",
    "        dfts.to_csv('DATA/DISTRICTS/'+dist+'.csv', index=False)\n"
   ]
  },
  {
   "cell_type": "code",
   "execution_count": 3,
   "id": "8c46907e-f391-422f-aa17-3133acaea65e",
   "metadata": {},
   "outputs": [
    {
     "name": "stdout",
     "output_type": "stream",
     "text": [
      "Combining Wave 1 & 2 for District: Bagalakote\n",
      "Combining Wave 1 & 2 for District: Ballari\n",
      "Combining Wave 1 & 2 for District: Belagavi\n",
      "Combining Wave 1 & 2 for District: Bengaluru Rural\n",
      "Combining Wave 1 & 2 for District: Bengaluru Urban\n",
      "Combining Wave 1 & 2 for District: Bidar\n",
      "Combining Wave 1 & 2 for District: Chamarajanagara\n",
      "Combining Wave 1 & 2 for District: Chikkaballapura\n",
      "Combining Wave 1 & 2 for District: Chikkamagaluru\n",
      "Combining Wave 1 & 2 for District: Chitradurga\n",
      "Combining Wave 1 & 2 for District: Dakshina Kannada\n",
      "Combining Wave 1 & 2 for District: Davanagere\n",
      "Combining Wave 1 & 2 for District: Dharwada\n",
      "Combining Wave 1 & 2 for District: Gadag\n",
      "Combining Wave 1 & 2 for District: Hassana\n",
      "Combining Wave 1 & 2 for District: Haveri\n",
      "Combining Wave 1 & 2 for District: Kalaburagi\n",
      "Combining Wave 1 & 2 for District: Kodagu\n",
      "Combining Wave 1 & 2 for District: Kolara\n",
      "Combining Wave 1 & 2 for District: Koppala\n",
      "Combining Wave 1 & 2 for District: Mandya\n",
      "Combining Wave 1 & 2 for District: Mysuru\n",
      "Combining Wave 1 & 2 for District: Raichuru\n",
      "Combining Wave 1 & 2 for District: Ramanagara\n",
      "Combining Wave 1 & 2 for District: Shivamogga\n",
      "Combining Wave 1 & 2 for District: Tumakuru\n",
      "Combining Wave 1 & 2 for District: Udupi\n",
      "Combining Wave 1 & 2 for District: Uttara Kannada\n",
      "Combining Wave 1 & 2 for District: Vijayapura\n",
      "Combining Wave 1 & 2 for District: Yadagiri\n"
     ]
    }
   ],
   "source": [
    "tmp = pd.read_csv('DATA/Archive/Dist_Name.csv')\n",
    "tmp\n",
    "for i in tmp['District Name']:\n",
    "    print('Combining Wave 1 & 2 for District: '+i)\n",
    "    combine(i)"
   ]
  }
 ],
 "metadata": {
  "kernelspec": {
   "display_name": "Python 3",
   "language": "python",
   "name": "python3"
  },
  "language_info": {
   "codemirror_mode": {
    "name": "ipython",
    "version": 3
   },
   "file_extension": ".py",
   "mimetype": "text/x-python",
   "name": "python",
   "nbconvert_exporter": "python",
   "pygments_lexer": "ipython3",
   "version": "3.9.5"
  }
 },
 "nbformat": 4,
 "nbformat_minor": 5
}
