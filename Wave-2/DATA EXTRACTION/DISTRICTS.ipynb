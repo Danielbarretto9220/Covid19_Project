{
 "cells": [
  {
   "cell_type": "code",
   "execution_count": 8,
   "id": "fde94dac-fb78-472a-8833-1978ad9ced61",
   "metadata": {},
   "outputs": [
    {
     "name": "stderr",
     "output_type": "stream",
     "text": [
      "<ipython-input-8-0a1aa6e8ce9b>:29: SettingWithCopyWarning: \n",
      "A value is trying to be set on a copy of a slice from a DataFrame.\n",
      "Try using .loc[row_indexer,col_indexer] = value instead\n",
      "\n",
      "See the caveats in the documentation: https://pandas.pydata.org/pandas-docs/stable/user_guide/indexing.html#returning-a-view-versus-a-copy\n",
      "  tmp2['Date'] = x[0]\n"
     ]
    }
   ],
   "source": [
    "# Code to extract specific districts from the excel files \n",
    "import re\n",
    "import pandas as pd\n",
    "from datetime import date\n",
    "\n",
    "def dist_data(dist_name):\n",
    "    \n",
    "    dist = str(dist_name)\n",
    "    date_df = pd.date_range(start='03/01/2021', end='06/03/2021')\n",
    "    tmp= pd.read_excel('EXCEL/DIST_DATA/01-03-2021.xlsx')\n",
    "    df = pd.DataFrame (columns = tmp.columns)\n",
    "\n",
    "    t=0\n",
    "    for i in date_df:\n",
    "        target_date = i\n",
    "        temp = str(target_date)[:10]\n",
    "        result = temp.split(\"-\")\n",
    "        new_result = date(int(result[0]),int(result[1]),int(result[2]))\n",
    "        month = new_result.strftime(\"%b\").upper()\n",
    "        year = result[0][2:]\n",
    "        # date_requried = the date we'll be working on for each iteration \n",
    "        date_required = result[2] + \"-\" + result[1] + \"-\" + result[0]\n",
    "#         print('Working on the following day: ' + date_required)\n",
    "\n",
    "        tmp= pd.read_excel('EXCEL/DIST_DATA/'+date_required+'.xlsx')\n",
    "        tmp2 = tmp[tmp['District Name'] == dist]\n",
    "        dt = str(i)\n",
    "        x = re.split(\"\\s\", dt)\n",
    "        tmp2['Date'] = x[0] \n",
    "\n",
    "        df = pd.concat([df,tmp2])\n",
    "    df = df.set_index('Date')\n",
    "\n",
    "\n",
    "    with pd.ExcelWriter('EXCEL/DISTRICT/'+dist+' Wave2.xlsx') as writer:\n",
    "            df.to_excel(writer, sheet_name='District', index=True) \n",
    "            \n"
   ]
  },
  {
   "cell_type": "code",
   "execution_count": 12,
   "id": "547a4e9e-4b98-4088-9bf1-0088f360eb56",
   "metadata": {},
   "outputs": [
    {
     "name": "stderr",
     "output_type": "stream",
     "text": [
      "<ipython-input-8-0a1aa6e8ce9b>:29: SettingWithCopyWarning: \n",
      "A value is trying to be set on a copy of a slice from a DataFrame.\n",
      "Try using .loc[row_indexer,col_indexer] = value instead\n",
      "\n",
      "See the caveats in the documentation: https://pandas.pydata.org/pandas-docs/stable/user_guide/indexing.html#returning-a-view-versus-a-copy\n",
      "  tmp2['Date'] = x[0]\n"
     ]
    }
   ],
   "source": [
    "# Code to extract specific districts from the excel files \n",
    "import pandas as pd\n",
    "from datetime import date\n",
    "\n",
    "tmp= pd.read_csv('Dist_Name.csv', header=0)\n",
    "\n",
    "for i in tmp['District Name']:\n",
    "    dist_data(i)"
   ]
  },
  {
   "cell_type": "code",
   "execution_count": null,
   "id": "dfb43952-76e4-4359-bb31-daff47aa642a",
   "metadata": {},
   "outputs": [],
   "source": []
  },
  {
   "cell_type": "code",
   "execution_count": null,
   "id": "48671b8f-674b-48fb-aa7e-9f86807bef16",
   "metadata": {},
   "outputs": [],
   "source": []
  }
 ],
 "metadata": {
  "kernelspec": {
   "display_name": "Python 3",
   "language": "python",
   "name": "python3"
  },
  "language_info": {
   "codemirror_mode": {
    "name": "ipython",
    "version": 3
   },
   "file_extension": ".py",
   "mimetype": "text/x-python",
   "name": "python",
   "nbconvert_exporter": "python",
   "pygments_lexer": "ipython3",
   "version": "3.9.5"
  }
 },
 "nbformat": 4,
 "nbformat_minor": 5
}
