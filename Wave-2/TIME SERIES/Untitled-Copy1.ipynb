{
 "cells": [
  {
   "cell_type": "code",
   "execution_count": 1,
   "id": "b5e9121a-4c7c-4f09-ad49-5d21a314cf7f",
   "metadata": {},
   "outputs": [],
   "source": [
    "import pandas as pd\n",
    "import plotly.express as px\n",
    "import plotly.io as pio\n",
    "pio.renderers.default = 'browser'\n",
    "import plotly.graph_objects as go\n",
    "import matplotlib.pyplot as plt\n",
    "from statsmodels.graphics.tsaplots import plot_acf,plot_pacf\n",
    "from pandas.plotting import autocorrelation_plot\n",
    "import statsmodels.api as sm\n",
    "from statsmodels.tsa.arima_model import ARIMA"
   ]
  },
  {
   "cell_type": "code",
   "execution_count": 2,
   "id": "983ab2cc-5e5e-47bb-9ea2-8c35db71bba4",
   "metadata": {},
   "outputs": [
    {
     "name": "stdin",
     "output_type": "stream",
     "text": [
      "Enter District Name Bagalakote\n"
     ]
    }
   ],
   "source": [
    "#Bagalakote\n",
    "dist = input(\"Enter District Name\")"
   ]
  },
  {
   "cell_type": "code",
   "execution_count": 3,
   "id": "0d4f3daa-0890-4ae5-838f-bb94382d4d16",
   "metadata": {},
   "outputs": [
    {
     "data": {
      "text/html": [
       "<div>\n",
       "<style scoped>\n",
       "    .dataframe tbody tr th:only-of-type {\n",
       "        vertical-align: middle;\n",
       "    }\n",
       "\n",
       "    .dataframe tbody tr th {\n",
       "        vertical-align: top;\n",
       "    }\n",
       "\n",
       "    .dataframe thead th {\n",
       "        text-align: right;\n",
       "    }\n",
       "</style>\n",
       "<table border=\"1\" class=\"dataframe\">\n",
       "  <thead>\n",
       "    <tr style=\"text-align: right;\">\n",
       "      <th></th>\n",
       "      <th>District Name</th>\n",
       "      <th>Today’s Positives</th>\n",
       "      <th>Total Positives</th>\n",
       "      <th>Today’s Discharges</th>\n",
       "      <th>Total Discharges</th>\n",
       "      <th>Total Active Cases</th>\n",
       "      <th>Today’s Reported Covid Deaths</th>\n",
       "      <th>Total Covid Deaths</th>\n",
       "      <th>Death due to Non- Covid reasons</th>\n",
       "      <th>Date</th>\n",
       "    </tr>\n",
       "  </thead>\n",
       "  <tbody>\n",
       "    <tr>\n",
       "      <th>0</th>\n",
       "      <td>Bagalakote</td>\n",
       "      <td>20</td>\n",
       "      <td>208</td>\n",
       "      <td>6</td>\n",
       "      <td>123</td>\n",
       "      <td>80</td>\n",
       "      <td>NaN</td>\n",
       "      <td>5</td>\n",
       "      <td>0</td>\n",
       "      <td>2020-07-01</td>\n",
       "    </tr>\n",
       "    <tr>\n",
       "      <th>1</th>\n",
       "      <td>Bagalakote</td>\n",
       "      <td>10</td>\n",
       "      <td>218</td>\n",
       "      <td>0</td>\n",
       "      <td>123</td>\n",
       "      <td>90</td>\n",
       "      <td>NaN</td>\n",
       "      <td>5</td>\n",
       "      <td>0</td>\n",
       "      <td>2020-07-02</td>\n",
       "    </tr>\n",
       "    <tr>\n",
       "      <th>2</th>\n",
       "      <td>Bagalakote</td>\n",
       "      <td>8</td>\n",
       "      <td>226</td>\n",
       "      <td>0</td>\n",
       "      <td>123</td>\n",
       "      <td>98</td>\n",
       "      <td>NaN</td>\n",
       "      <td>5</td>\n",
       "      <td>0</td>\n",
       "      <td>2020-07-03</td>\n",
       "    </tr>\n",
       "    <tr>\n",
       "      <th>3</th>\n",
       "      <td>Bagalakote</td>\n",
       "      <td>0</td>\n",
       "      <td>226</td>\n",
       "      <td>0</td>\n",
       "      <td>123</td>\n",
       "      <td>98</td>\n",
       "      <td>NaN</td>\n",
       "      <td>5</td>\n",
       "      <td>0</td>\n",
       "      <td>2020-07-04</td>\n",
       "    </tr>\n",
       "    <tr>\n",
       "      <th>4</th>\n",
       "      <td>Bagalakote</td>\n",
       "      <td>4</td>\n",
       "      <td>230</td>\n",
       "      <td>14</td>\n",
       "      <td>137</td>\n",
       "      <td>88</td>\n",
       "      <td>NaN</td>\n",
       "      <td>5</td>\n",
       "      <td>0</td>\n",
       "      <td>2020-07-05</td>\n",
       "    </tr>\n",
       "    <tr>\n",
       "      <th>...</th>\n",
       "      <td>...</td>\n",
       "      <td>...</td>\n",
       "      <td>...</td>\n",
       "      <td>...</td>\n",
       "      <td>...</td>\n",
       "      <td>...</td>\n",
       "      <td>...</td>\n",
       "      <td>...</td>\n",
       "      <td>...</td>\n",
       "      <td>...</td>\n",
       "    </tr>\n",
       "    <tr>\n",
       "      <th>292</th>\n",
       "      <td>Bagalakote</td>\n",
       "      <td>218</td>\n",
       "      <td>31206</td>\n",
       "      <td>625</td>\n",
       "      <td>26474</td>\n",
       "      <td>4475</td>\n",
       "      <td>4.0</td>\n",
       "      <td>257</td>\n",
       "      <td>0</td>\n",
       "      <td>2021-05-23</td>\n",
       "    </tr>\n",
       "    <tr>\n",
       "      <th>293</th>\n",
       "      <td>Bagalakote</td>\n",
       "      <td>283</td>\n",
       "      <td>31489</td>\n",
       "      <td>826</td>\n",
       "      <td>27300</td>\n",
       "      <td>3925</td>\n",
       "      <td>7.0</td>\n",
       "      <td>264</td>\n",
       "      <td>0</td>\n",
       "      <td>2021-05-24</td>\n",
       "    </tr>\n",
       "    <tr>\n",
       "      <th>294</th>\n",
       "      <td>Bagalakote</td>\n",
       "      <td>211</td>\n",
       "      <td>31700</td>\n",
       "      <td>426</td>\n",
       "      <td>27726</td>\n",
       "      <td>3709</td>\n",
       "      <td>1.0</td>\n",
       "      <td>265</td>\n",
       "      <td>0</td>\n",
       "      <td>2021-05-25</td>\n",
       "    </tr>\n",
       "    <tr>\n",
       "      <th>295</th>\n",
       "      <td>Bagalakote</td>\n",
       "      <td>245</td>\n",
       "      <td>31945</td>\n",
       "      <td>548</td>\n",
       "      <td>28274</td>\n",
       "      <td>3403</td>\n",
       "      <td>3.0</td>\n",
       "      <td>268</td>\n",
       "      <td>0</td>\n",
       "      <td>2021-05-26</td>\n",
       "    </tr>\n",
       "    <tr>\n",
       "      <th>296</th>\n",
       "      <td>Bagalakote</td>\n",
       "      <td>214</td>\n",
       "      <td>32159</td>\n",
       "      <td>312</td>\n",
       "      <td>28586</td>\n",
       "      <td>3303</td>\n",
       "      <td>2.0</td>\n",
       "      <td>270</td>\n",
       "      <td>0</td>\n",
       "      <td>2021-05-27</td>\n",
       "    </tr>\n",
       "  </tbody>\n",
       "</table>\n",
       "<p>297 rows × 10 columns</p>\n",
       "</div>"
      ],
      "text/plain": [
       "    District Name  Today’s Positives  Total Positives  Today’s Discharges  \\\n",
       "0      Bagalakote                 20              208                   6   \n",
       "1      Bagalakote                 10              218                   0   \n",
       "2      Bagalakote                  8              226                   0   \n",
       "3      Bagalakote                  0              226                   0   \n",
       "4      Bagalakote                  4              230                  14   \n",
       "..            ...                ...              ...                 ...   \n",
       "292    Bagalakote                218            31206                 625   \n",
       "293    Bagalakote                283            31489                 826   \n",
       "294    Bagalakote                211            31700                 426   \n",
       "295    Bagalakote                245            31945                 548   \n",
       "296    Bagalakote                214            32159                 312   \n",
       "\n",
       "     Total Discharges  Total Active Cases  Today’s Reported Covid Deaths  \\\n",
       "0                 123                  80                            NaN   \n",
       "1                 123                  90                            NaN   \n",
       "2                 123                  98                            NaN   \n",
       "3                 123                  98                            NaN   \n",
       "4                 137                  88                            NaN   \n",
       "..                ...                 ...                            ...   \n",
       "292             26474                4475                            4.0   \n",
       "293             27300                3925                            7.0   \n",
       "294             27726                3709                            1.0   \n",
       "295             28274                3403                            3.0   \n",
       "296             28586                3303                            2.0   \n",
       "\n",
       "     Total Covid Deaths  Death due to Non- Covid reasons       Date  \n",
       "0                     5                                0 2020-07-01  \n",
       "1                     5                                0 2020-07-02  \n",
       "2                     5                                0 2020-07-03  \n",
       "3                     5                                0 2020-07-04  \n",
       "4                     5                                0 2020-07-05  \n",
       "..                  ...                              ...        ...  \n",
       "292                 257                                0 2021-05-23  \n",
       "293                 264                                0 2021-05-24  \n",
       "294                 265                                0 2021-05-25  \n",
       "295                 268                                0 2021-05-26  \n",
       "296                 270                                0 2021-05-27  \n",
       "\n",
       "[297 rows x 10 columns]"
      ]
     },
     "execution_count": 3,
     "metadata": {},
     "output_type": "execute_result"
    }
   ],
   "source": [
    "df = pd.read_excel('../DATA EXTRACTION/EXCEL/DISTRICT/'+dist+'.xlsx')\n",
    "df"
   ]
  },
  {
   "cell_type": "code",
   "execution_count": 4,
   "id": "004f5fbb-194e-4069-886f-308b42cc5f66",
   "metadata": {},
   "outputs": [
    {
     "data": {
      "text/html": [
       "<div>\n",
       "<style scoped>\n",
       "    .dataframe tbody tr th:only-of-type {\n",
       "        vertical-align: middle;\n",
       "    }\n",
       "\n",
       "    .dataframe tbody tr th {\n",
       "        vertical-align: top;\n",
       "    }\n",
       "\n",
       "    .dataframe thead th {\n",
       "        text-align: right;\n",
       "    }\n",
       "</style>\n",
       "<table border=\"1\" class=\"dataframe\">\n",
       "  <thead>\n",
       "    <tr style=\"text-align: right;\">\n",
       "      <th></th>\n",
       "      <th>District Name</th>\n",
       "      <th>Today’s Positives</th>\n",
       "      <th>Total Positives</th>\n",
       "      <th>Today’s Discharges</th>\n",
       "      <th>Total Discharges</th>\n",
       "      <th>Total Active Cases</th>\n",
       "      <th>Today’s Reported Covid Deaths</th>\n",
       "      <th>Total Covid Deaths</th>\n",
       "      <th>Death due to Non- Covid reasons</th>\n",
       "      <th>Date</th>\n",
       "    </tr>\n",
       "  </thead>\n",
       "  <tbody>\n",
       "    <tr>\n",
       "      <th>0</th>\n",
       "      <td>Bagalakote</td>\n",
       "      <td>20</td>\n",
       "      <td>208</td>\n",
       "      <td>6</td>\n",
       "      <td>123</td>\n",
       "      <td>80</td>\n",
       "      <td>NaN</td>\n",
       "      <td>5</td>\n",
       "      <td>0</td>\n",
       "      <td>2020-07-01</td>\n",
       "    </tr>\n",
       "    <tr>\n",
       "      <th>1</th>\n",
       "      <td>Bagalakote</td>\n",
       "      <td>10</td>\n",
       "      <td>218</td>\n",
       "      <td>0</td>\n",
       "      <td>123</td>\n",
       "      <td>90</td>\n",
       "      <td>NaN</td>\n",
       "      <td>5</td>\n",
       "      <td>0</td>\n",
       "      <td>2020-07-02</td>\n",
       "    </tr>\n",
       "    <tr>\n",
       "      <th>2</th>\n",
       "      <td>Bagalakote</td>\n",
       "      <td>8</td>\n",
       "      <td>226</td>\n",
       "      <td>0</td>\n",
       "      <td>123</td>\n",
       "      <td>98</td>\n",
       "      <td>NaN</td>\n",
       "      <td>5</td>\n",
       "      <td>0</td>\n",
       "      <td>2020-07-03</td>\n",
       "    </tr>\n",
       "    <tr>\n",
       "      <th>3</th>\n",
       "      <td>Bagalakote</td>\n",
       "      <td>0</td>\n",
       "      <td>226</td>\n",
       "      <td>0</td>\n",
       "      <td>123</td>\n",
       "      <td>98</td>\n",
       "      <td>NaN</td>\n",
       "      <td>5</td>\n",
       "      <td>0</td>\n",
       "      <td>2020-07-04</td>\n",
       "    </tr>\n",
       "    <tr>\n",
       "      <th>4</th>\n",
       "      <td>Bagalakote</td>\n",
       "      <td>4</td>\n",
       "      <td>230</td>\n",
       "      <td>14</td>\n",
       "      <td>137</td>\n",
       "      <td>88</td>\n",
       "      <td>NaN</td>\n",
       "      <td>5</td>\n",
       "      <td>0</td>\n",
       "      <td>2020-07-05</td>\n",
       "    </tr>\n",
       "  </tbody>\n",
       "</table>\n",
       "</div>"
      ],
      "text/plain": [
       "  District Name  Today’s Positives  Total Positives  Today’s Discharges  \\\n",
       "0    Bagalakote                 20              208                   6   \n",
       "1    Bagalakote                 10              218                   0   \n",
       "2    Bagalakote                  8              226                   0   \n",
       "3    Bagalakote                  0              226                   0   \n",
       "4    Bagalakote                  4              230                  14   \n",
       "\n",
       "   Total Discharges  Total Active Cases  Today’s Reported Covid Deaths  \\\n",
       "0               123                  80                            NaN   \n",
       "1               123                  90                            NaN   \n",
       "2               123                  98                            NaN   \n",
       "3               123                  98                            NaN   \n",
       "4               137                  88                            NaN   \n",
       "\n",
       "   Total Covid Deaths  Death due to Non- Covid reasons       Date  \n",
       "0                   5                                0 2020-07-01  \n",
       "1                   5                                0 2020-07-02  \n",
       "2                   5                                0 2020-07-03  \n",
       "3                   5                                0 2020-07-04  \n",
       "4                   5                                0 2020-07-05  "
      ]
     },
     "execution_count": 4,
     "metadata": {},
     "output_type": "execute_result"
    }
   ],
   "source": [
    "df['Date']=pd.to_datetime(df['Date'])\n",
    "#df.set_index('Date', inplace=True)\n",
    "df.head()"
   ]
  },
  {
   "cell_type": "code",
   "execution_count": 5,
   "id": "7e4094a5-47be-4f51-8385-184e957ddc7b",
   "metadata": {},
   "outputs": [
    {
     "data": {
      "text/plain": [
       "<AxesSubplot:>"
      ]
     },
     "execution_count": 5,
     "metadata": {},
     "output_type": "execute_result"
    },
    {
     "data": {
      "image/png": "[encoded data removed]",
      "text/plain": [
       "<Figure size 432x288 with 1 Axes>"
      ]
     },
     "metadata": {
      "needs_background": "light"
     },
     "output_type": "display_data"
    }
   ],
   "source": [
    "dfts = pd.DataFrame()\n",
    "dfts[\"\"\"Positive Cases\"\"\"]=df[\"\"\"Today’s Positives\"\"\"]\n",
    "dfts['Date']=df['Date']\n",
    "dfts['EMA'] = dfts.iloc[:,0].ewm(span=12,adjust=False).mean()\n",
    "dfts\n",
    "title=dist\n",
    "dfts.plot()"
   ]
  },
  {
   "cell_type": "code",
   "execution_count": 6,
   "id": "8f1821fa-12d0-44c5-a781-1e735acc65d1",
   "metadata": {},
   "outputs": [
    {
     "data": {
      "text/plain": [
       "(297, 3)"
      ]
     },
     "execution_count": 6,
     "metadata": {},
     "output_type": "execute_result"
    }
   ],
   "source": [
    "dfts.shape"
   ]
  },
  {
   "cell_type": "code",
   "execution_count": 30,
   "id": "2ea49607-a8a6-43ae-a393-385d12638012",
   "metadata": {},
   "outputs": [],
   "source": [
    "\n",
    "\n",
    "fig = px.line(dfts, x='Date', y=\"\"\"Positive Cases\"\"\", title=dist+' Positive Cases')\n",
    "\n",
    "fig.show()"
   ]
  },
  {
   "cell_type": "code",
   "execution_count": 51,
   "id": "e676a81f-7329-440c-87d8-ef226a94859b",
   "metadata": {},
   "outputs": [],
   "source": [
    "fig = go.Figure()\n",
    "fig.add_trace(go.Scatter(x=dfts['Date'], y=dfts[\"\"\"Positive Cases\"\"\"], name='Postive Cases'))\n",
    "fig.add_trace(go.Scatter(x=dfts['Date'], y=dfts['EMA'], name='Exp Moving Avg'))\n",
    "\n",
    "# Edit the layout\n",
    "fig.update_layout(title='Postive cases in '+dist+' District',\n",
    "                   xaxis_title='Date',\n",
    "                   yaxis_title='Count of Cases')\n",
    "\n",
    "fig.show()"
   ]
  },
  {
   "cell_type": "code",
   "execution_count": 9,
   "id": "0ce04732-5eb2-4127-b24d-b5aa2782cb1a",
   "metadata": {},
   "outputs": [],
   "source": [
    "### Testing For Stationarity\n",
    "\n",
    "from statsmodels.tsa.stattools import adfuller"
   ]
  },
  {
   "cell_type": "code",
   "execution_count": 34,
   "id": "cd9d55a0-a553-4671-b469-b217d3d1a535",
   "metadata": {},
   "outputs": [],
   "source": [
    "#Ho: It is non stationary\n",
    "#H1: It is stationary\n",
    "\n",
    "def adfuller_test(sales):\n",
    "    result=adfuller(sales)\n",
    "    labels = ['ADF Test Statistic','p-value','#Lags Used','Number of Observations Used']\n",
    "    for value,label in zip(result,labels):\n",
    "        print(label+' : '+str(value) )\n",
    "    if result[1] <= 0.05:\n",
    "        print(\"strong evidence against the null hypothesis(Ho), reject the null hypothesis. Data has no unit root and is stationary\")\n",
    "    else:\n",
    "        print(\"weak evidence against null hypothesis, time series has a unit root, indicating it is non-stationary \")\n",
    "    "
   ]
  },
  {
   "cell_type": "code",
   "execution_count": 35,
   "id": "d741ef08-93e7-48b5-956b-59bf5c07e891",
   "metadata": {},
   "outputs": [
    {
     "name": "stdout",
     "output_type": "stream",
     "text": [
      "ADF Test Statistic : -3.068623915554675\n",
      "p-value : 0.028963989059207277\n",
      "#Lags Used : 7\n",
      "Number of Observations Used : 289\n",
      "strong evidence against the null hypothesis(Ho), reject the null hypothesis. Data has no unit root and is stationary\n"
     ]
    }
   ],
   "source": [
    "adfuller_test(df[\"\"\"Today’s Positives\"\"\"])"
   ]
  },
  {
   "cell_type": "code",
   "execution_count": 36,
   "id": "ed643340-3e3f-4405-b4c2-d0f79e77ddf8",
   "metadata": {},
   "outputs": [
    {
     "data": {
      "text/html": [
       "<div>\n",
       "<style scoped>\n",
       "    .dataframe tbody tr th:only-of-type {\n",
       "        vertical-align: middle;\n",
       "    }\n",
       "\n",
       "    .dataframe tbody tr th {\n",
       "        vertical-align: top;\n",
       "    }\n",
       "\n",
       "    .dataframe thead th {\n",
       "        text-align: right;\n",
       "    }\n",
       "</style>\n",
       "<table border=\"1\" class=\"dataframe\">\n",
       "  <thead>\n",
       "    <tr style=\"text-align: right;\">\n",
       "      <th></th>\n",
       "      <th>Positive Cases</th>\n",
       "      <th>Date</th>\n",
       "      <th>EMA</th>\n",
       "      <th>Difference</th>\n",
       "      <th>forecast</th>\n",
       "    </tr>\n",
       "  </thead>\n",
       "  <tbody>\n",
       "    <tr>\n",
       "      <th>0</th>\n",
       "      <td>20</td>\n",
       "      <td>2020-07-01</td>\n",
       "      <td>20.000000</td>\n",
       "      <td>NaN</td>\n",
       "      <td>NaN</td>\n",
       "    </tr>\n",
       "    <tr>\n",
       "      <th>1</th>\n",
       "      <td>10</td>\n",
       "      <td>2020-07-02</td>\n",
       "      <td>18.461538</td>\n",
       "      <td>NaN</td>\n",
       "      <td>NaN</td>\n",
       "    </tr>\n",
       "    <tr>\n",
       "      <th>2</th>\n",
       "      <td>8</td>\n",
       "      <td>2020-07-03</td>\n",
       "      <td>16.852071</td>\n",
       "      <td>NaN</td>\n",
       "      <td>NaN</td>\n",
       "    </tr>\n",
       "    <tr>\n",
       "      <th>3</th>\n",
       "      <td>0</td>\n",
       "      <td>2020-07-04</td>\n",
       "      <td>14.259445</td>\n",
       "      <td>-20.0</td>\n",
       "      <td>NaN</td>\n",
       "    </tr>\n",
       "    <tr>\n",
       "      <th>4</th>\n",
       "      <td>4</td>\n",
       "      <td>2020-07-05</td>\n",
       "      <td>12.681069</td>\n",
       "      <td>-6.0</td>\n",
       "      <td>NaN</td>\n",
       "    </tr>\n",
       "  </tbody>\n",
       "</table>\n",
       "</div>"
      ],
      "text/plain": [
       "   Positive Cases       Date        EMA  Difference  forecast\n",
       "0              20 2020-07-01  20.000000         NaN       NaN\n",
       "1              10 2020-07-02  18.461538         NaN       NaN\n",
       "2               8 2020-07-03  16.852071         NaN       NaN\n",
       "3               0 2020-07-04  14.259445       -20.0       NaN\n",
       "4               4 2020-07-05  12.681069        -6.0       NaN"
      ]
     },
     "execution_count": 36,
     "metadata": {},
     "output_type": "execute_result"
    }
   ],
   "source": [
    "dfts['Difference'] = df[\"\"\"Today’s Positives\"\"\"] - df[\"\"\"Today’s Positives\"\"\"].shift(3)\n",
    "dfts.head()"
   ]
  },
  {
   "cell_type": "code",
   "execution_count": 37,
   "id": "89d5fbca-4331-4213-aef3-99e5784efe51",
   "metadata": {},
   "outputs": [
    {
     "data": {
      "text/plain": [
       "<AxesSubplot:>"
      ]
     },
     "execution_count": 37,
     "metadata": {},
     "output_type": "execute_result"
    },
    {
     "data": {
      "image/png": "[encoded data removed]",
      "text/plain": [
       "<Figure size 432x288 with 1 Axes>"
      ]
     },
     "metadata": {
      "needs_background": "light"
     },
     "output_type": "display_data"
    }
   ],
   "source": [
    "dfts['Difference'].plot()"
   ]
  },
  {
   "cell_type": "code",
   "execution_count": 38,
   "id": "7a6cbb5e-44a0-4489-9a12-5b795ed84ce0",
   "metadata": {},
   "outputs": [
    {
     "name": "stdout",
     "output_type": "stream",
     "text": [
      "ADF Test Statistic : -5.423626151653777\n",
      "p-value : 3.0209206787437347e-06\n",
      "#Lags Used : 16\n",
      "Number of Observations Used : 277\n",
      "strong evidence against the null hypothesis(Ho), reject the null hypothesis. Data has no unit root and is stationary\n"
     ]
    }
   ],
   "source": [
    "## Again test dickey fuller test\n",
    "adfuller_test(dfts['Difference'].dropna())"
   ]
  },
  {
   "cell_type": "code",
   "execution_count": 39,
   "id": "ead1f7fc-51e4-4e3b-9233-28f2b17a7049",
   "metadata": {},
   "outputs": [],
   "source": [
    "# dfts['Second Difference'] = df[\"\"\"Today’s Positives\"\"\"] - df[\"\"\"Today’s Positives\"\"\"].shift(2)\n",
    "# dfts['Second Difference'].plot()\n",
    "\n",
    "# # Again test dickey fuller test\n",
    "# adfuller_test(df['First Difference'].dropna())"
   ]
  },
  {
   "cell_type": "code",
   "execution_count": 40,
   "id": "0d5589f2-1aa9-45be-9745-e1135cca38a1",
   "metadata": {},
   "outputs": [
    {
     "data": {
      "image/png": "[encoded data removed]",
      "text/plain": [
       "<Figure size 432x288 with 1 Axes>"
      ]
     },
     "metadata": {
      "needs_background": "light"
     },
     "output_type": "display_data"
    }
   ],
   "source": [
    "\n",
    "autocorrelation_plot(dfts['Positive Cases'])\n",
    "plt.show()"
   ]
  },
  {
   "cell_type": "code",
   "execution_count": 41,
   "id": "6e1e30c3-1077-4331-b218-c890915423d9",
   "metadata": {},
   "outputs": [
    {
     "data": {
      "image/png": "[encoded data removed]",
      "text/plain": [
       "<Figure size 864x576 with 2 Axes>"
      ]
     },
     "metadata": {
      "needs_background": "light"
     },
     "output_type": "display_data"
    }
   ],
   "source": [
    "fig = plt.figure(figsize=(12,8))\n",
    "ax1 = fig.add_subplot(211)\n",
    "fig = sm.graphics.tsa.plot_acf(dfts['Difference'].iloc[3:],lags=20,ax=ax1)\n",
    "ax2 = fig.add_subplot(212)\n",
    "fig = sm.graphics.tsa.plot_pacf(dfts['Difference'].iloc[3:],lags=20,ax=ax2)"
   ]
  },
  {
   "cell_type": "code",
   "execution_count": 42,
   "id": "3f5059eb-c800-45a7-a7e3-0ce69c9e4e7e",
   "metadata": {},
   "outputs": [
    {
     "data": {
      "text/plain": [
       "0       20\n",
       "1       10\n",
       "2        8\n",
       "3        0\n",
       "4        4\n",
       "      ... \n",
       "292    218\n",
       "293    283\n",
       "294    211\n",
       "295    245\n",
       "296    214\n",
       "Name: Positive Cases, Length: 297, dtype: int64"
      ]
     },
     "execution_count": 42,
     "metadata": {},
     "output_type": "execute_result"
    }
   ],
   "source": [
    "# For non-seasonal data\n",
    "#p=1, d=1, q=0 or 1\n",
    "from statsmodels.tsa.arima_model import ARIMA\n",
    "dfts['Positive Cases']"
   ]
  },
  {
   "cell_type": "code",
   "execution_count": 43,
   "id": "742a135a-a37d-48b1-95ad-c54760da557c",
   "metadata": {},
   "outputs": [
    {
     "name": "stderr",
     "output_type": "stream",
     "text": [
      "c:\\users\\danie\\appdata\\local\\programs\\python\\python39\\lib\\site-packages\\statsmodels\\tsa\\arima_model.py:472: FutureWarning:\n",
      "\n",
      "\n",
      "statsmodels.tsa.arima_model.ARMA and statsmodels.tsa.arima_model.ARIMA have\n",
      "been deprecated in favor of statsmodels.tsa.arima.model.ARIMA (note the .\n",
      "between arima and model) and\n",
      "statsmodels.tsa.SARIMAX. These will be removed after the 0.12 release.\n",
      "\n",
      "statsmodels.tsa.arima.model.ARIMA makes use of the statespace framework and\n",
      "is both well tested and maintained.\n",
      "\n",
      "To silence this warning and continue using ARMA and ARIMA until they are\n",
      "removed, use:\n",
      "\n",
      "import warnings\n",
      "warnings.filterwarnings('ignore', 'statsmodels.tsa.arima_model.ARMA',\n",
      "                        FutureWarning)\n",
      "warnings.filterwarnings('ignore', 'statsmodels.tsa.arima_model.ARIMA',\n",
      "                        FutureWarning)\n",
      "\n",
      "\n",
      "c:\\users\\danie\\appdata\\local\\programs\\python\\python39\\lib\\site-packages\\statsmodels\\tsa\\arima_model.py:472: FutureWarning:\n",
      "\n",
      "\n",
      "statsmodels.tsa.arima_model.ARMA and statsmodels.tsa.arima_model.ARIMA have\n",
      "been deprecated in favor of statsmodels.tsa.arima.model.ARIMA (note the .\n",
      "between arima and model) and\n",
      "statsmodels.tsa.SARIMAX. These will be removed after the 0.12 release.\n",
      "\n",
      "statsmodels.tsa.arima.model.ARIMA makes use of the statespace framework and\n",
      "is both well tested and maintained.\n",
      "\n",
      "To silence this warning and continue using ARMA and ARIMA until they are\n",
      "removed, use:\n",
      "\n",
      "import warnings\n",
      "warnings.filterwarnings('ignore', 'statsmodels.tsa.arima_model.ARMA',\n",
      "                        FutureWarning)\n",
      "warnings.filterwarnings('ignore', 'statsmodels.tsa.arima_model.ARIMA',\n",
      "                        FutureWarning)\n",
      "\n",
      "\n"
     ]
    }
   ],
   "source": [
    "model=ARIMA(dfts['Positive Cases'],order=(1,1,1))\n",
    "model_fit=model.fit()"
   ]
  },
  {
   "cell_type": "code",
   "execution_count": 44,
   "id": "02dc0995-241a-488a-967c-12298865e08b",
   "metadata": {},
   "outputs": [
    {
     "data": {
      "text/html": [
       "<table class=\"simpletable\">\n",
       "<caption>ARIMA Model Results</caption>\n",
       "<tr>\n",
       "  <th>Dep. Variable:</th> <td>D.Positive Cases</td> <th>  No. Observations:  </th>    <td>296</td>   \n",
       "</tr>\n",
       "<tr>\n",
       "  <th>Model:</th>          <td>ARIMA(1, 1, 1)</td>  <th>  Log Likelihood     </th> <td>-1718.179</td>\n",
       "</tr>\n",
       "<tr>\n",
       "  <th>Method:</th>             <td>css-mle</td>     <th>  S.D. of innovations</th>  <td>80.278</td>  \n",
       "</tr>\n",
       "<tr>\n",
       "  <th>Date:</th>          <td>Thu, 03 Jun 2021</td> <th>  AIC                </th> <td>3444.358</td> \n",
       "</tr>\n",
       "<tr>\n",
       "  <th>Time:</th>              <td>19:58:07</td>     <th>  BIC                </th> <td>3459.120</td> \n",
       "</tr>\n",
       "<tr>\n",
       "  <th>Sample:</th>                <td>1</td>        <th>  HQIC               </th> <td>3450.269</td> \n",
       "</tr>\n",
       "<tr>\n",
       "  <th></th>                       <td> </td>        <th>                     </th>     <td> </td>    \n",
       "</tr>\n",
       "</table>\n",
       "<table class=\"simpletable\">\n",
       "<tr>\n",
       "             <td></td>               <th>coef</th>     <th>std err</th>      <th>z</th>      <th>P>|z|</th>  <th>[0.025</th>    <th>0.975]</th>  \n",
       "</tr>\n",
       "<tr>\n",
       "  <th>const</th>                  <td>    0.7416</td> <td>    2.664</td> <td>    0.278</td> <td> 0.781</td> <td>   -4.479</td> <td>    5.962</td>\n",
       "</tr>\n",
       "<tr>\n",
       "  <th>ar.L1.D.Positive Cases</th> <td>    0.4109</td> <td>    0.123</td> <td>    3.352</td> <td> 0.001</td> <td>    0.171</td> <td>    0.651</td>\n",
       "</tr>\n",
       "<tr>\n",
       "  <th>ma.L1.D.Positive Cases</th> <td>   -0.6652</td> <td>    0.097</td> <td>   -6.870</td> <td> 0.000</td> <td>   -0.855</td> <td>   -0.475</td>\n",
       "</tr>\n",
       "</table>\n",
       "<table class=\"simpletable\">\n",
       "<caption>Roots</caption>\n",
       "<tr>\n",
       "    <td></td>   <th>            Real</th>  <th>         Imaginary</th> <th>         Modulus</th>  <th>        Frequency</th>\n",
       "</tr>\n",
       "<tr>\n",
       "  <th>AR.1</th> <td>           2.4335</td> <td>          +0.0000j</td> <td>           2.4335</td> <td>           0.0000</td>\n",
       "</tr>\n",
       "<tr>\n",
       "  <th>MA.1</th> <td>           1.5033</td> <td>          +0.0000j</td> <td>           1.5033</td> <td>           0.0000</td>\n",
       "</tr>\n",
       "</table>"
      ],
      "text/plain": [
       "<class 'statsmodels.iolib.summary.Summary'>\n",
       "\"\"\"\n",
       "                             ARIMA Model Results                              \n",
       "==============================================================================\n",
       "Dep. Variable:       D.Positive Cases   No. Observations:                  296\n",
       "Model:                 ARIMA(1, 1, 1)   Log Likelihood               -1718.179\n",
       "Method:                       css-mle   S.D. of innovations             80.278\n",
       "Date:                Thu, 03 Jun 2021   AIC                           3444.358\n",
       "Time:                        19:58:07   BIC                           3459.120\n",
       "Sample:                             1   HQIC                          3450.269\n",
       "                                                                              \n",
       "==========================================================================================\n",
       "                             coef    std err          z      P>|z|      [0.025      0.975]\n",
       "------------------------------------------------------------------------------------------\n",
       "const                      0.7416      2.664      0.278      0.781      -4.479       5.962\n",
       "ar.L1.D.Positive Cases     0.4109      0.123      3.352      0.001       0.171       0.651\n",
       "ma.L1.D.Positive Cases    -0.6652      0.097     -6.870      0.000      -0.855      -0.475\n",
       "                                    Roots                                    \n",
       "=============================================================================\n",
       "                  Real          Imaginary           Modulus         Frequency\n",
       "-----------------------------------------------------------------------------\n",
       "AR.1            2.4335           +0.0000j            2.4335            0.0000\n",
       "MA.1            1.5033           +0.0000j            1.5033            0.0000\n",
       "-----------------------------------------------------------------------------\n",
       "\"\"\""
      ]
     },
     "execution_count": 44,
     "metadata": {},
     "output_type": "execute_result"
    }
   ],
   "source": [
    "model_fit.summary()"
   ]
  },
  {
   "cell_type": "code",
   "execution_count": 47,
   "id": "69580c50-41c6-4e69-8359-402bda099c9d",
   "metadata": {},
   "outputs": [
    {
     "data": {
      "text/plain": [
       "<AxesSubplot:>"
      ]
     },
     "execution_count": 47,
     "metadata": {},
     "output_type": "execute_result"
    },
    {
     "data": {
      "image/png": "[encoded data removed]",
      "text/plain": [
       "<Figure size 864x576 with 1 Axes>"
      ]
     },
     "metadata": {
      "needs_background": "light"
     },
     "output_type": "display_data"
    }
   ],
   "source": [
    "dfts['forecast']=model_fit.predict(start=280,end=297,dynamic=True)\n",
    "dfts[['Positive Cases','forecast']].plot(figsize=(12,8))"
   ]
  },
  {
   "cell_type": "code",
   "execution_count": 48,
   "id": "a998e8f4-11e7-4d7e-9afa-1c61f0c9313f",
   "metadata": {},
   "outputs": [],
   "source": [
    "model=sm.tsa.statespace.SARIMAX(dfts['Positive Cases'],order=(1, 1, 1),seasonal_order=(1,1,1,12))\n",
    "results=model.fit()"
   ]
  },
  {
   "cell_type": "code",
   "execution_count": 49,
   "id": "bc7d04b0-951d-414b-a6d6-60b263eb28bb",
   "metadata": {},
   "outputs": [
    {
     "data": {
      "text/plain": [
       "<AxesSubplot:>"
      ]
     },
     "execution_count": 49,
     "metadata": {},
     "output_type": "execute_result"
    },
    {
     "data": {
      "image/png": "[encoded data removed]",
      "text/plain": [
       "<Figure size 864x576 with 1 Axes>"
      ]
     },
     "metadata": {
      "needs_background": "light"
     },
     "output_type": "display_data"
    }
   ],
   "source": [
    "dfts['forecast']=results.predict(start=280,end=297,dynamic=True)\n",
    "dfts[['Positive Cases','forecast']].plot(figsize=(12,8))"
   ]
  },
  {
   "cell_type": "code",
   "execution_count": 50,
   "id": "d244f638-ab8c-4cd4-beaa-dce58979d367",
   "metadata": {},
   "outputs": [
    {
     "data": {
      "text/plain": [
       "<AxesSubplot:>"
      ]
     },
     "execution_count": 50,
     "metadata": {},
     "output_type": "execute_result"
    },
    {
     "data": {
      "image/png": "[encoded data removed]",
      "text/plain": [
       "<Figure size 864x576 with 1 Axes>"
      ]
     },
     "metadata": {
      "needs_background": "light"
     },
     "output_type": "display_data"
    }
   ],
   "source": [
    "dfts['forecast']=results.predict(start=297,end=310,dynamic=True)\n",
    "dfts[['Positive Cases','forecast']].plot(figsize=(12,8))"
   ]
  },
  {
   "cell_type": "code",
   "execution_count": null,
   "id": "847baeb6-237e-43d0-8732-a3f91c4cf1f3",
   "metadata": {},
   "outputs": [],
   "source": []
  },
  {
   "cell_type": "code",
   "execution_count": null,
   "id": "baa7c08b-ce43-4fda-82ea-6c47cc2444a0",
   "metadata": {},
   "outputs": [],
   "source": []
  }
 ],
 "metadata": {
  "kernelspec": {
   "display_name": "Python 3",
   "language": "python",
   "name": "python3"
  },
  "language_info": {
   "codemirror_mode": {
    "name": "ipython",
    "version": 3
   },
   "file_extension": ".py",
   "mimetype": "text/x-python",
   "name": "python",
   "nbconvert_exporter": "python",
   "pygments_lexer": "ipython3",
   "version": "3.9.5"
  }
 },
 "nbformat": 4,
 "nbformat_minor": 5
}
