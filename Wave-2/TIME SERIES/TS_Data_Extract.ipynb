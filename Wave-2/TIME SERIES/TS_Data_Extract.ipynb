{
 "cells": [
  {
   "cell_type": "code",
   "execution_count": 2,
   "id": "c5d92744-abd3-4100-899f-bb5815be553a",
   "metadata": {},
   "outputs": [],
   "source": [
    "import pandas as pd\n",
    "import plotly.express as px\n",
    "import plotly.io as pio\n",
    "pio.renderers.default = 'browser'\n",
    "import plotly.graph_objects as go"
   ]
  },
  {
   "cell_type": "code",
   "execution_count": 4,
   "id": "c78015e0-439f-4f3d-a3cc-aa1c98e7a15b",
   "metadata": {},
   "outputs": [
    {
     "name": "stdin",
     "output_type": "stream",
     "text": [
      "Enter District Name Bengaluru Urban\n"
     ]
    }
   ],
   "source": [
    "# Input \n",
    "dist = input(\"Enter District Name\")\n",
    "\n",
    "# Data Retrival\n",
    "df = pd.read_excel('../DATA EXTRACTION/EXCEL/DISTRICT/'+dist+' wave2.xlsx')\n",
    "\n",
    "# Add Date to the df\n",
    "df['Date']=pd.to_datetime(df['Date'])\n",
    "#df.set_index('Date', inplace=True)\n",
    "\n",
    "# New dataframe for visualization \n",
    "dfts = pd.DataFrame()\n",
    "dfts[\"\"\"Positive Cases\"\"\"]=df[\"\"\"Today’s Positives\"\"\"]\n",
    "dfts['Date']=df['Date']\n",
    "dfts['EMA'] = dfts.iloc[:,0].ewm(span=12,adjust=False).mean()\n",
    "\n",
    "# Final Visualization\n",
    "fig = go.Figure()\n",
    "fig.add_trace(go.Scatter(x=dfts['Date'], y=dfts[\"\"\"Positive Cases\"\"\"], name='Postive Cases'))\n",
    "fig.add_trace(go.Scatter(x=dfts['Date'], y=dfts['EMA'], name='Exp Moving Avg'))\n",
    "\n",
    "# Edit the layout\n",
    "fig.update_layout(title='Postive cases in '+dist+' District',\n",
    "                   xaxis_title='Date',\n",
    "                   yaxis_title='Count of Cases')\n",
    "\n",
    "fig.show()"
   ]
  },
  {
   "cell_type": "code",
   "execution_count": 11,
   "id": "31b16536-3701-41e7-bdcc-ad8ef8836f83",
   "metadata": {},
   "outputs": [],
   "source": [
    "dfts.to_csv('dfts.csv', index=False)"
   ]
  },
  {
   "cell_type": "code",
   "execution_count": null,
   "id": "8f827df0-9825-4851-8fd1-f41944a9a0af",
   "metadata": {},
   "outputs": [],
   "source": []
  }
 ],
 "metadata": {
  "kernelspec": {
   "display_name": "Python 3",
   "language": "python",
   "name": "python3"
  },
  "language_info": {
   "codemirror_mode": {
    "name": "ipython",
    "version": 3
   },
   "file_extension": ".py",
   "mimetype": "text/x-python",
   "name": "python",
   "nbconvert_exporter": "python",
   "pygments_lexer": "ipython3",
   "version": "3.9.5"
  }
 },
 "nbformat": 4,
 "nbformat_minor": 5
}
